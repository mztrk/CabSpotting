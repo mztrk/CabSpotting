{
 "cells": [
  {
   "cell_type": "markdown",
   "metadata": {},
   "source": [
    "# Business case:\n",
    "\n",
    "Use Case: For this data science challenge you are provided with a dataset containing mobility traces of ~500 taxi cabs in San Francisco collected over ~30 days. The format of each mobility trace file is the following - each line contains [latitude, longitude, occupancy, time], e.g.: [37.75134 -122.39488 0 1213084687], where latitude and longitude are in decimal degrees, occupancy shows if a cab has a fare (1 = occupied, 0 = free) and time is in UNIX epoch format.\n",
    "The goal of this data science challenge is twofold:\n",
    "1. To calculate the potential for yearly reduction on CO2 emissions, caused by the taxi cabs roaming without passengers. In your calculation please assume that the taxi cab fleet is changing at the rate of 10% per month (from combustion engine-powered vehicles to electric vehicles). Assume also that the average passenger vehicle emits about 404 grams of CO2 per mile.\n",
    "2. To build a predictor for taxi drivers, predicting the next place a passenger will hail a cab.\n",
    "\n",
    "Bonus question:\n",
    "3. Identify clusters of taxi cabs that you find being relevant"
   ]
  },
  {
   "cell_type": "markdown",
   "metadata": {},
   "source": [
    "# Methodology"
   ]
  },
  {
   "cell_type": "markdown",
   "metadata": {},
   "source": [
    "Before applying Data Science techniques, we can make use of various problem solving methodologies and their tools to decompose problems\n",
    "\n",
    "✓ Lean Six Sigma \n",
    "\n",
    "✓ TRIZ (Theory of Inventive Problem Solving) \n",
    "\n",
    "✓ CRISP-DM \n",
    "\n",
    "✓ Design Thinking"
   ]
  },
  {
   "cell_type": "markdown",
   "metadata": {},
   "source": [
    "## CRISP-DM"
   ]
  },
  {
   "cell_type": "markdown",
   "metadata": {},
   "source": [
    "ftp://public.dhe.ibm.com/software/analytics/spss/documentation/modeler/18.0/en/ModelerCRISPDM.pdf\n",
    "\n",
    "CRISP-DM (CRoss Industry Process for Data Mining) is a process model that describes commonly used approaches that data mining experts use to tackle problems. It is a guide that allows data mining projects to be completed faster with higher quality and less resources. It is an evolutionary and iterative process."
   ]
  },
  {
   "cell_type": "markdown",
   "metadata": {},
   "source": [
    "# STEP 1 – BUSINESS UNDERSTANDING "
   ]
  },
  {
   "cell_type": "markdown",
   "metadata": {},
   "source": [
    "Firstly an in-depth analysis of the business objectives and needs has to be done. Current situation must be accessed and from these insights, the goals of carrying out the processes must be defined. This should follow the setting up of a plan to proceed. In our case, our aim is finding yearly CO2 emission reduction, predicting for taxi drivers, predicting the next place a passenger will hail a cab and Identify clusters of taxi cabs that you find being relevant."
   ]
  },
  {
   "cell_type": "markdown",
   "metadata": {},
   "source": [
    "### Question 1 - CO2 emission reduction"
   ]
  },
  {
   "cell_type": "markdown",
   "metadata": {},
   "source": [
    "In order to find yearly CO2 emission reduction, we need to find distance via longitude and latitude in Miles. It should be in miles metric because in the question it is given by average passenger vehicle emits about 404 grams of CO2 per mile. I use only 10% of .txt files. Within those files I keept only occupancy set to zero. Because in the question asked that by the taxi cabs roaming without passengers. \n",
    "\n",
    "I calculate the distances of all drivers to have the total distance of interest for one month. I multiply the result by 12 and get the yearly distance of interest for the CO2 emissions\n",
    "Then, I assume that the taxi cab fleet is changing at the rate of 10% per month. This policy means that the number of taxis with combustion engines is reduced by 10% every month. Accordingly I assume that the distance for CO2 emissions is also reduced by 10% every month. Applying this policy for 12 months gives me the new distance for the CO2 emissions with EVs.\n",
    "\n",
    "Then, I take the two distances, divide them by 0.1. Because I only took 10% of the files for my calculation and thus approximate the total distance of all taxis. I get the CO2 reduction by multiplying the total distance with the number of CO2 grams per mile and comparing the difference in terms of percentage.\n",
    "\n"
   ]
  },
  {
   "cell_type": "markdown",
   "metadata": {},
   "source": [
    "### Question 2 - Next place a passenger will hail a cab (Occupancy Model)"
   ]
  },
  {
   "cell_type": "markdown",
   "metadata": {},
   "source": [
    "To predict the next place a passenger will hail a cab, I divided the question in to two. First question is what the next place that cab will go is. Second question is predicting a customer hail the cab.\n",
    "\n",
    "In the first question, we can think it as time series problem. I build a model that predict the location in t by using as previous location in t-1, t-2 and t-3. First I create simple neural network model with one input layer, one hidden layer and one output layer for one taxi driver. Results are not good therefore I predict longitude and latitude separately with Gradient Boosting algorithm. In order to increase performance of GBM model, we can change the previous window and hyper-parameter tuning. Because of time constrains I wrote hyper-parameter code but not run it. LSTM could be also very useful for this assignment.\n",
    "\n",
    "In the second question, I build a Random Forest Classifier to predict whether next location is a pick-up point or not. I subset 10% of the total data and all data and using timestamp data I generate day of week, hour and time data. I think also adding holiday and weather data will be very useful to our model. So I added holiday data as a flag and retrain Random Forest Classifier model. There is only 3 holidays in the given period of time which are Memorial Day(26th of May), Independence Day(4th of July) and Labor Day(1st of September). Result of Holiday Flag added models accuracy more accurate than previous model.  Also precision of predicting hailing a cab is increase 1%. Therefore we can use holiday flag for our model and it gives other data such as weather will be valuable.\n",
    "\n",
    "Notes: I do not do hyper-parameter optimization because of the time constrain. Other algorithms logistic regression, SVM, XgBoost, light GBM etc. could have been used."
   ]
  },
  {
   "cell_type": "markdown",
   "metadata": {},
   "source": [
    "### Finding next pick-up point (Final Occupancy Model)"
   ]
  },
  {
   "cell_type": "markdown",
   "metadata": {},
   "source": [
    "We can get the next pick-up location by combining the next location predictor for each taxi driver and the occupancy classifier.\n",
    "\n",
    "The next location prediction coordinates can be fed into the pick-up point classifier which will indicate the next pick-up location with a certain probability."
   ]
  },
  {
   "cell_type": "markdown",
   "metadata": {},
   "source": [
    "## Bonus Question - Identify clusters of taxi cabs that you find being relevant. "
   ]
  },
  {
   "cell_type": "markdown",
   "metadata": {},
   "source": [
    "I apply two different method to identify cluster of taxi cabs.\n",
    "\n",
    "First is using DBSCAN (Density-Based Spatial Clustering of Applications with Noise) that is a popular unsupervised learning method utilized in model building and machine learning algorithms. I subset 10% of the total data and divided into two in terms of occupancy flag. I looked other cabs where they are driving in the past and where they will go after it. By doing so, I clustered its cabs together based on similarity of behavior.\n",
    "\n",
    "My second method is implementing RFM methodology in to this question. I subset 10% of the total data and I found total miles per cab, total occupied miles per cab and average active minutes per day. Using mindset of RFM, I split the data into 4 in terms of quantile. Using this quantiles, I create 7 sample of segments. I gave the definition of segments in the coding phase. "
   ]
  },
  {
   "cell_type": "markdown",
   "metadata": {},
   "source": [
    "# STEP 2 – DATA UNDERSTANDING"
   ]
  },
  {
   "cell_type": "markdown",
   "metadata": {},
   "source": [
    "We have mobility traces of ~500 taxi cabs in San Francisco collected over ~30 days. The format of each mobility trace file is the following - each line contains [latitude, longitude, occupancy, time] "
   ]
  },
  {
   "cell_type": "code",
   "execution_count": 1,
   "metadata": {},
   "outputs": [
    {
     "name": "stderr",
     "output_type": "stream",
     "text": [
      "Using TensorFlow backend.\n"
     ]
    }
   ],
   "source": [
    "import random\n",
    "import datetime\n",
    "from os import listdir\n",
    "from os.path import join as jp\n",
    "\n",
    "import numpy as np\n",
    "import pandas as pd\n",
    "from pandas import DataFrame\n",
    "from pandas import Series\n",
    "import matplotlib.pyplot as plt\n",
    "from math import radians, degrees, sin, cos, asin, acos, sqrt\n",
    "import tensorflow\n",
    "\n",
    "from keras.models import Sequential\n",
    "from keras.layers import Dense, Input, Activation, BatchNormalization, Dropout\n",
    "\n",
    "from sklearn import metrics\n",
    "from sklearn.cluster import DBSCAN\n",
    "from sklearn.model_selection import train_test_split\n",
    "from sklearn.ensemble import RandomForestClassifier\n",
    "from sklearn.metrics import accuracy_score\n",
    "\n",
    "pd.options.mode.chained_assignment = None"
   ]
  },
  {
   "cell_type": "code",
   "execution_count": 2,
   "metadata": {},
   "outputs": [
    {
     "data": {
      "text/plain": [
       "'/Users/mustafaozturk'"
      ]
     },
     "execution_count": 2,
     "metadata": {},
     "output_type": "execute_result"
    }
   ],
   "source": [
    "import os \n",
    "os.getcwd()"
   ]
  },
  {
   "cell_type": "code",
   "execution_count": 3,
   "metadata": {},
   "outputs": [
    {
     "name": "stdout",
     "output_type": "stream",
     "text": [
      "All files are 537\n",
      "\n",
      "53 randomly selected files\n"
     ]
    }
   ],
   "source": [
    "path = '/Users/mustafaozturk/Desktop/cases/PMI Case 2/cabspottingdata'\n",
    "\n",
    "all_files = [file_name for file_name in listdir(path) if file_name.endswith('.txt')]\n",
    "print(f'All files are {len(all_files)}')\n",
    "\n",
    "PerofFiles = 0.1\n",
    "\n",
    "random.Random(1923).shuffle(all_files)\n",
    "SelectedFiles = all_files[:int(PerofFiles * len(all_files))]\n",
    "\n",
    "print(f'\\n{len(SelectedFiles)} randomly selected files')"
   ]
  },
  {
   "cell_type": "markdown",
   "metadata": {},
   "source": [
    "# STEP 3 – DATA PREPERATION"
   ]
  },
  {
   "cell_type": "markdown",
   "metadata": {},
   "source": [
    "Most data used for data mining was originally collected and preserved for other purposes and needs some refinement before it is ready to use for modeling.\n",
    "\n",
    "The data preparation phase includes five tasks. These are\n",
    "\n",
    "Selecting data\n",
    "\n",
    "Cleaning data\n",
    "\n",
    "Constructing data\n",
    "\n",
    "Integrating data\n",
    "\n",
    "Formatting data"
   ]
  },
  {
   "cell_type": "code",
   "execution_count": 4,
   "metadata": {},
   "outputs": [],
   "source": [
    "def ConverttoDF(file_name: str):\n",
    "    df = pd.read_csv(jp(path, file_name), sep=' ', header=None)\n",
    "    df.index = file_name.split('.')[0] + \"_\" + df.index.map(str)\n",
    "    df.columns = ['Latitude', 'Longitude', 'Occupancy', 'Timestamp']\n",
    "    df['Taxi'] = file_name.split('.')[0]\n",
    "    return df\n",
    "\n",
    "def PreviousCoordinates(df: DataFrame):\n",
    "    df['PrevLatitude'] = df.shift(1)['Latitude']\n",
    "    df['PrevLongitude'] = df.shift(1)['Longitude']\n",
    "    df = df.dropna()\n",
    "    return df\n",
    "\n",
    "def EstimatedDistance(row: Series):\n",
    "    # formulation of finding distance via longitude and latitude in Miles from\n",
    "    # https://gist.github.com/rochacbruno/2883505#gistcomment-1394026\n",
    "    Longitude = row['Longitude']\n",
    "    Latitude = row['Latitude']\n",
    "    PrevLongitude = row['PrevLongitude']\n",
    "    PrevLatitude = row['PrevLatitude']\n",
    "    Longitude, Latitude, PrevLongitude, PrevLatitude = map(radians, \n",
    "                                                                    [Longitude, Latitude, \n",
    "                                                                    PrevLongitude, PrevLatitude])\n",
    "    try:\n",
    "        return 3959 * (acos(sin(Latitude) * sin(PrevLatitude) + cos(Latitude) * cos(PrevLatitude) * \n",
    "                                cos(Longitude - PrevLongitude)))\n",
    "    except:\n",
    "        return 0.0\n",
    "\n",
    "def DistanceCalculation(df: DataFrame):\n",
    "    df['Miles'] = 0.0\n",
    "    df['Miles'] = df.apply(lambda row: EstimatedDistance(row), axis=1)\n",
    "    return df\n",
    "\n",
    "Data = pd.DataFrame()\n",
    "for f in SelectedFiles:\n",
    "    df = ConverttoDF(file_name=f)\n",
    "    df = PreviousCoordinates(df=df)\n",
    "    df = DistanceCalculation(df=df)\n",
    "    Data = pd.concat([Data, df])"
   ]
  },
  {
   "cell_type": "code",
   "execution_count": 5,
   "metadata": {},
   "outputs": [
    {
     "data": {
      "text/html": [
       "<div>\n",
       "<style scoped>\n",
       "    .dataframe tbody tr th:only-of-type {\n",
       "        vertical-align: middle;\n",
       "    }\n",
       "\n",
       "    .dataframe tbody tr th {\n",
       "        vertical-align: top;\n",
       "    }\n",
       "\n",
       "    .dataframe thead th {\n",
       "        text-align: right;\n",
       "    }\n",
       "</style>\n",
       "<table border=\"1\" class=\"dataframe\">\n",
       "  <thead>\n",
       "    <tr style=\"text-align: right;\">\n",
       "      <th></th>\n",
       "      <th>Latitude</th>\n",
       "      <th>Longitude</th>\n",
       "      <th>Occupancy</th>\n",
       "      <th>Timestamp</th>\n",
       "      <th>Taxi</th>\n",
       "      <th>PrevLatitude</th>\n",
       "      <th>PrevLongitude</th>\n",
       "      <th>Miles</th>\n",
       "    </tr>\n",
       "  </thead>\n",
       "  <tbody>\n",
       "    <tr>\n",
       "      <td>new_ajsnedsi_1</td>\n",
       "      <td>37.75124</td>\n",
       "      <td>-122.39527</td>\n",
       "      <td>0</td>\n",
       "      <td>1211022396</td>\n",
       "      <td>new_ajsnedsi</td>\n",
       "      <td>37.75167</td>\n",
       "      <td>-122.39460</td>\n",
       "      <td>0.047145</td>\n",
       "    </tr>\n",
       "    <tr>\n",
       "      <td>new_ajsnedsi_2</td>\n",
       "      <td>37.75027</td>\n",
       "      <td>-122.39532</td>\n",
       "      <td>0</td>\n",
       "      <td>1211022456</td>\n",
       "      <td>new_ajsnedsi</td>\n",
       "      <td>37.75124</td>\n",
       "      <td>-122.39527</td>\n",
       "      <td>0.067080</td>\n",
       "    </tr>\n",
       "    <tr>\n",
       "      <td>new_ajsnedsi_3</td>\n",
       "      <td>37.75224</td>\n",
       "      <td>-122.39650</td>\n",
       "      <td>0</td>\n",
       "      <td>1211022516</td>\n",
       "      <td>new_ajsnedsi</td>\n",
       "      <td>37.75027</td>\n",
       "      <td>-122.39532</td>\n",
       "      <td>0.150617</td>\n",
       "    </tr>\n",
       "    <tr>\n",
       "      <td>new_ajsnedsi_4</td>\n",
       "      <td>37.75281</td>\n",
       "      <td>-122.39083</td>\n",
       "      <td>0</td>\n",
       "      <td>1211022577</td>\n",
       "      <td>new_ajsnedsi</td>\n",
       "      <td>37.75224</td>\n",
       "      <td>-122.39650</td>\n",
       "      <td>0.312262</td>\n",
       "    </tr>\n",
       "    <tr>\n",
       "      <td>new_ajsnedsi_5</td>\n",
       "      <td>37.76503</td>\n",
       "      <td>-122.39311</td>\n",
       "      <td>0</td>\n",
       "      <td>1211022637</td>\n",
       "      <td>new_ajsnedsi</td>\n",
       "      <td>37.75281</td>\n",
       "      <td>-122.39083</td>\n",
       "      <td>0.853509</td>\n",
       "    </tr>\n",
       "  </tbody>\n",
       "</table>\n",
       "</div>"
      ],
      "text/plain": [
       "                Latitude  Longitude  Occupancy   Timestamp          Taxi  \\\n",
       "new_ajsnedsi_1  37.75124 -122.39527          0  1211022396  new_ajsnedsi   \n",
       "new_ajsnedsi_2  37.75027 -122.39532          0  1211022456  new_ajsnedsi   \n",
       "new_ajsnedsi_3  37.75224 -122.39650          0  1211022516  new_ajsnedsi   \n",
       "new_ajsnedsi_4  37.75281 -122.39083          0  1211022577  new_ajsnedsi   \n",
       "new_ajsnedsi_5  37.76503 -122.39311          0  1211022637  new_ajsnedsi   \n",
       "\n",
       "                PrevLatitude  PrevLongitude     Miles  \n",
       "new_ajsnedsi_1      37.75167     -122.39460  0.047145  \n",
       "new_ajsnedsi_2      37.75124     -122.39527  0.067080  \n",
       "new_ajsnedsi_3      37.75027     -122.39532  0.150617  \n",
       "new_ajsnedsi_4      37.75224     -122.39650  0.312262  \n",
       "new_ajsnedsi_5      37.75281     -122.39083  0.853509  "
      ]
     },
     "execution_count": 5,
     "metadata": {},
     "output_type": "execute_result"
    }
   ],
   "source": [
    "Data.head()"
   ]
  },
  {
   "cell_type": "markdown",
   "metadata": {},
   "source": [
    "Using describe function, very fast data analysis can be done. \n",
    "\n",
    "When I checked the count field below, I can say that there is no nan value there are no outliers.\n",
    "\n",
    "By inspecting the data, I found that some coordinates are places in the Pacific ocean but we assume that this is a  GPS error. \n",
    "\n",
    "Maximum time is 06/10/2008 @ 9:09am (UTC) and minimum time is 05/17/2008 @ 10:00am (UTC)\n",
    "\n",
    "Occupancy and vacancy rate seems to be equally distributed. \n"
   ]
  },
  {
   "cell_type": "code",
   "execution_count": 6,
   "metadata": {},
   "outputs": [
    {
     "data": {
      "text/html": [
       "<div>\n",
       "<style scoped>\n",
       "    .dataframe tbody tr th:only-of-type {\n",
       "        vertical-align: middle;\n",
       "    }\n",
       "\n",
       "    .dataframe tbody tr th {\n",
       "        vertical-align: top;\n",
       "    }\n",
       "\n",
       "    .dataframe thead th {\n",
       "        text-align: right;\n",
       "    }\n",
       "</style>\n",
       "<table border=\"1\" class=\"dataframe\">\n",
       "  <thead>\n",
       "    <tr style=\"text-align: right;\">\n",
       "      <th></th>\n",
       "      <th>Latitude</th>\n",
       "      <th>Longitude</th>\n",
       "      <th>Occupancy</th>\n",
       "      <th>Timestamp</th>\n",
       "      <th>PrevLatitude</th>\n",
       "      <th>PrevLongitude</th>\n",
       "      <th>Miles</th>\n",
       "    </tr>\n",
       "  </thead>\n",
       "  <tbody>\n",
       "    <tr>\n",
       "      <td>count</td>\n",
       "      <td>1079188.00</td>\n",
       "      <td>1079188.00</td>\n",
       "      <td>1079188.00</td>\n",
       "      <td>1079188.00</td>\n",
       "      <td>1079188.00</td>\n",
       "      <td>1079188.00</td>\n",
       "      <td>1079188.00</td>\n",
       "    </tr>\n",
       "    <tr>\n",
       "      <td>mean</td>\n",
       "      <td>37.76</td>\n",
       "      <td>-122.41</td>\n",
       "      <td>0.45</td>\n",
       "      <td>1212048057.47</td>\n",
       "      <td>37.76</td>\n",
       "      <td>-122.41</td>\n",
       "      <td>0.33</td>\n",
       "    </tr>\n",
       "    <tr>\n",
       "      <td>std</td>\n",
       "      <td>0.05</td>\n",
       "      <td>0.03</td>\n",
       "      <td>0.50</td>\n",
       "      <td>588164.74</td>\n",
       "      <td>0.05</td>\n",
       "      <td>0.03</td>\n",
       "      <td>1.47</td>\n",
       "    </tr>\n",
       "    <tr>\n",
       "      <td>min</td>\n",
       "      <td>35.92</td>\n",
       "      <td>-122.61</td>\n",
       "      <td>0.00</td>\n",
       "      <td>1211018413.00</td>\n",
       "      <td>35.92</td>\n",
       "      <td>-122.61</td>\n",
       "      <td>0.00</td>\n",
       "    </tr>\n",
       "    <tr>\n",
       "      <td>25%</td>\n",
       "      <td>37.76</td>\n",
       "      <td>-122.43</td>\n",
       "      <td>0.00</td>\n",
       "      <td>1211547971.00</td>\n",
       "      <td>37.76</td>\n",
       "      <td>-122.43</td>\n",
       "      <td>0.03</td>\n",
       "    </tr>\n",
       "    <tr>\n",
       "      <td>50%</td>\n",
       "      <td>37.78</td>\n",
       "      <td>-122.41</td>\n",
       "      <td>0.00</td>\n",
       "      <td>1212050459.50</td>\n",
       "      <td>37.78</td>\n",
       "      <td>-122.41</td>\n",
       "      <td>0.15</td>\n",
       "    </tr>\n",
       "    <tr>\n",
       "      <td>75%</td>\n",
       "      <td>37.79</td>\n",
       "      <td>-122.40</td>\n",
       "      <td>1.00</td>\n",
       "      <td>1212564613.25</td>\n",
       "      <td>37.79</td>\n",
       "      <td>-122.40</td>\n",
       "      <td>0.31</td>\n",
       "    </tr>\n",
       "    <tr>\n",
       "      <td>max</td>\n",
       "      <td>50.31</td>\n",
       "      <td>-122.00</td>\n",
       "      <td>1.00</td>\n",
       "      <td>1213088997.00</td>\n",
       "      <td>50.31</td>\n",
       "      <td>-122.00</td>\n",
       "      <td>867.64</td>\n",
       "    </tr>\n",
       "  </tbody>\n",
       "</table>\n",
       "</div>"
      ],
      "text/plain": [
       "        Latitude  Longitude  Occupancy     Timestamp  PrevLatitude  \\\n",
       "count 1079188.00 1079188.00 1079188.00    1079188.00    1079188.00   \n",
       "mean       37.76    -122.41       0.45 1212048057.47         37.76   \n",
       "std         0.05       0.03       0.50     588164.74          0.05   \n",
       "min        35.92    -122.61       0.00 1211018413.00         35.92   \n",
       "25%        37.76    -122.43       0.00 1211547971.00         37.76   \n",
       "50%        37.78    -122.41       0.00 1212050459.50         37.78   \n",
       "75%        37.79    -122.40       1.00 1212564613.25         37.79   \n",
       "max        50.31    -122.00       1.00 1213088997.00         50.31   \n",
       "\n",
       "       PrevLongitude      Miles  \n",
       "count     1079188.00 1079188.00  \n",
       "mean         -122.41       0.33  \n",
       "std             0.03       1.47  \n",
       "min          -122.61       0.00  \n",
       "25%          -122.43       0.03  \n",
       "50%          -122.41       0.15  \n",
       "75%          -122.40       0.31  \n",
       "max          -122.00     867.64  "
      ]
     },
     "execution_count": 6,
     "metadata": {},
     "output_type": "execute_result"
    }
   ],
   "source": [
    "pd.set_option('display.float_format', lambda x: '%.2f' % x)\n",
    "Data.describe()"
   ]
  },
  {
   "cell_type": "markdown",
   "metadata": {},
   "source": [
    "Average vacant distance for each taxi driver that I select"
   ]
  },
  {
   "cell_type": "code",
   "execution_count": 7,
   "metadata": {},
   "outputs": [
    {
     "name": "stdout",
     "output_type": "stream",
     "text": [
      "Taxi\n",
      "new_abmuyawm    2107.93\n",
      "new_acvebr      3865.09\n",
      "new_afweka      2363.08\n",
      "new_ajsnedsi    3065.84\n",
      "new_amknywr     2059.95\n",
      "new_ancedvab     779.90\n",
      "new_andyol      2324.05\n",
      "new_aniajcr     2299.33\n",
      "new_anupwr      1808.28\n",
      "new_artgagvu    2264.14\n",
      "new_asigno      2801.32\n",
      "new_atidfi      2697.00\n",
      "new_easnsvu     2724.33\n",
      "new_ecdiwovu    2639.48\n",
      "new_eglohabs    2327.33\n",
      "new_eicmynts    1541.58\n",
      "new_ejcrur      2129.92\n",
      "new_elswcky     2373.92\n",
      "new_eoffrij     2407.09\n",
      "new_eybyay      3067.37\n",
      "new_icedpa      1329.37\n",
      "new_ictlypt     1943.14\n",
      "new_idjoat       350.20\n",
      "new_idjojwa      432.45\n",
      "new_idodly      2453.26\n",
      "new_igglitby    3141.53\n",
      "new_ikujfurk    2029.61\n",
      "new_imhacy       488.72\n",
      "new_indtwrat    2752.54\n",
      "new_iofplik     2756.06\n",
      "new_iovhar      2590.61\n",
      "new_ipdraw       406.54\n",
      "new_mfeuer        16.90\n",
      "new_oasthul     1855.25\n",
      "new_obsimjio    2097.10\n",
      "new_ocwyit      1763.95\n",
      "new_ogikligu    2210.60\n",
      "new_ojvighta    2769.50\n",
      "new_oksbosfl    2288.03\n",
      "new_omdrid       703.10\n",
      "new_omluaj      2906.39\n",
      "new_ononma      2403.01\n",
      "new_ophugbe     2864.15\n",
      "new_osckro      2898.44\n",
      "new_osoccef     2811.96\n",
      "new_otvasdar    2591.74\n",
      "new_oydtesa     2267.14\n",
      "new_ucvepnuv    2362.86\n",
      "new_ugdifbl     1752.66\n",
      "new_ujtosh      1549.18\n",
      "new_ujtrud      2353.32\n",
      "new_upthin     52263.62\n",
      "new_uvreoipy    2882.19\n",
      "Name: Miles, dtype: float64\n"
     ]
    }
   ],
   "source": [
    "NoPassanger = Data[Data['Occupancy'] == 0]\n",
    "#Distance Without Passanger\n",
    "DistanceWOPassanger = NoPassanger.groupby(by=['Taxi'])['Miles'].sum()\n",
    "print(DistanceWOPassanger)"
   ]
  },
  {
   "cell_type": "markdown",
   "metadata": {},
   "source": [
    "# STEP 4 – MODELLING"
   ]
  },
  {
   "cell_type": "markdown",
   "metadata": {},
   "source": [
    "After data preparation, our data is already in good shape, and now you can search for useful patterns in your data.\n",
    "The modeling phase includes four tasks. These are\n",
    "\n",
    "Selecting modeling techniques\n",
    "\n",
    "Designing test(s)\n",
    "\n",
    "Building model(s)\n",
    "\n",
    "Assessing model(s)"
   ]
  },
  {
   "cell_type": "markdown",
   "metadata": {},
   "source": [
    "## Question 1: CO2 Reduction Analysis"
   ]
  },
  {
   "cell_type": "code",
   "execution_count": 8,
   "metadata": {},
   "outputs": [
    {
     "name": "stdout",
     "output_type": "stream",
     "text": [
      "The distance for CO2 in one year (combustion engine-powered vehicles) is approx 1967185.0 Miles\n",
      "\n",
      "The distance for CO2 after 0 month(s) of Electric Vehicles is approx 163932.056 Miles\n",
      "The distance for CO2 after 1 month(s) of Electric Vehicles is approx 147538.85 Miles\n",
      "The distance for CO2 after 2 month(s) of Electric Vehicles is approx 132784.965 Miles\n",
      "The distance for CO2 after 3 month(s) of Electric Vehicles is approx 119506.469 Miles\n",
      "The distance for CO2 after 4 month(s) of Electric Vehicles is approx 107555.822 Miles\n",
      "The distance for CO2 after 5 month(s) of Electric Vehicles is approx 96800.24 Miles\n",
      "The distance for CO2 after 6 month(s) of Electric Vehicles is approx 87120.216 Miles\n",
      "The distance for CO2 after 7 month(s) of Electric Vehicles is approx 78408.194 Miles\n",
      "The distance for CO2 after 8 month(s) of Electric Vehicles is approx 70567.375 Miles\n",
      "The distance for CO2 after 9 month(s) of Electric Vehicles is approx 63510.637 Miles\n",
      "The distance for CO2 after 10 month(s) of Electric Vehicles is approx 57159.574 Miles\n",
      "The distance for CO2 after 11 month(s) of Electric Vehicles is approx 51443.616 Miles\n",
      "\n",
      "The distance for CO2 after one year of Electric Vehicles  is approx 1176328.0 Miles\n"
     ]
    }
   ],
   "source": [
    "DistanceWOPassangerPerMonth = DistanceWOPassanger.sum()\n",
    "#We can assume that multiplying monthly distance by 12, we can find the yearly distance.\n",
    "DistanceWOPassangerPerYear = DistanceWOPassangerPerMonth * 12\n",
    "\n",
    "print(f'The distance for CO2 in one year (combustion engine-powered vehicles) '\n",
    "      f'is approx {round(DistanceWOPassangerPerYear)} Miles\\n')\n",
    "\n",
    "\n",
    "#electric vehicles\n",
    "DistanceWOPassangerPerYearEV = 0.0\n",
    "\n",
    "\n",
    "#assume that the taxi cab fleet is changing at the rate of 10% per month\n",
    "for month in range(12):\n",
    "    if month == 0:\n",
    "        DistanceWOPassangerPerMonthEV = DistanceWOPassangerPerMonth\n",
    "        DistanceWOPassangerPerYearEV = DistanceWOPassangerPerMonth\n",
    "    else:\n",
    "        DistanceWOPassangerPerMonthEV = DistanceWOPassangerPerMonthEV * 0.9\n",
    "        DistanceWOPassangerPerYearEV += DistanceWOPassangerPerMonthEV\n",
    "    print(f'The distance for CO2 after {month} month(s) of'\n",
    "          f' Electric Vehicles is approx {round(DistanceWOPassangerPerMonthEV, 3)} Miles')\n",
    "    \n",
    "print(f'\\nThe distance for CO2 after one year of Electric Vehicles '\n",
    "      f' is approx {round(DistanceWOPassangerPerYearEV)} Miles')"
   ]
  },
  {
   "cell_type": "code",
   "execution_count": 9,
   "metadata": {},
   "outputs": [
    {
     "name": "stdout",
     "output_type": "stream",
     "text": [
      "The CO2 emissions are reduced by 40.2 %\n"
     ]
    }
   ],
   "source": [
    "CO2GramsPerMiles = 404\n",
    "\n",
    "#CO2 emissions without electronic vehicles\n",
    "\n",
    "CO2EmissionWOEV = DistanceWOPassangerPerYear / PerofFiles * CO2GramsPerMiles\n",
    "\n",
    "#CO2 emissions with electronic vehicles\n",
    "\n",
    "CO2EmissionWEV = DistanceWOPassangerPerYearEV / PerofFiles * CO2GramsPerMiles\n",
    "\n",
    "CO2Reduction = round((CO2EmissionWOEV - CO2EmissionWEV) / CO2EmissionWOEV, 4)\n",
    "\n",
    "print(f'The CO2 emissions are reduced by {CO2Reduction * 100} %')"
   ]
  },
  {
   "cell_type": "markdown",
   "metadata": {},
   "source": [
    "## Question 2. To build a predictor for taxi drivers, predicting the next place a passenger will hail a cab."
   ]
  },
  {
   "cell_type": "code",
   "execution_count": 10,
   "metadata": {},
   "outputs": [],
   "source": [
    "#San Francisco coordinate is 37.7749° N, 122.4194° W. \n",
    "#Therefore we can use 37 and 122 as offset value in order to normalized our data\n",
    "\n",
    "lat_offset = 37.0\n",
    "long_offset = -122.0\n",
    "taxi_driver = SelectedFiles[0]\n",
    "\n",
    "datapoints = []\n",
    "with open(file=jp(path, taxi_driver), mode='r') as f:\n",
    "    for line in f:\n",
    "        lat, long, occ, ts = line.split()\n",
    "        datapoints.append([float(lat) - lat_offset, float(long) - long_offset])"
   ]
  },
  {
   "cell_type": "code",
   "execution_count": 11,
   "metadata": {},
   "outputs": [],
   "source": [
    "TaxiDrivers = SelectedFiles[0]\n",
    "\n",
    "Data = []\n",
    "with open(file=jp(path, TaxiDrivers), mode='r') as f:\n",
    "     for line in f:\n",
    "        Latitude, Longitute, Occupation, TS = line.split()\n",
    "        Data.append([Latitude, Longitute])\n"
   ]
  },
  {
   "cell_type": "markdown",
   "metadata": {},
   "source": [
    "In order to create a new dataset as a timeseries mindset, I follow below steps"
   ]
  },
  {
   "cell_type": "code",
   "execution_count": 12,
   "metadata": {},
   "outputs": [],
   "source": [
    "X = []\n",
    "Y = []\n",
    "timeseries = 3\n",
    "for x in range(len(Data) - timeseries):\n",
    "    TimeSteps = Data[x:x + timeseries]\n",
    "    X.append([TS for TimeStep in TimeSteps for TS in TimeStep])\n",
    "    Y.append(Data[x + timeseries])\n"
   ]
  },
  {
   "cell_type": "markdown",
   "metadata": {},
   "source": [
    "This is a timeseries approach so splitting train and test data should be first n% as train last (1-n) % as test. I select 80-20 split rule."
   ]
  },
  {
   "cell_type": "code",
   "execution_count": 13,
   "metadata": {},
   "outputs": [],
   "source": [
    "TraingTestSize = round(len(X) * 0.8)\n",
    "\n",
    "X_train = np.array(X[:TraingTestSize])\n",
    "X_test = np.array(X[TraingTestSize:])\n",
    "\n",
    "Y_train = np.array(Y[:TraingTestSize])\n",
    "Y_test = np.array(Y[TraingTestSize:])"
   ]
  },
  {
   "cell_type": "markdown",
   "metadata": {},
   "source": [
    "In this step, I create neural network with one input layer, one hidden layer and one output layer. I follow MSE because this is a regression problem. "
   ]
  },
  {
   "cell_type": "code",
   "execution_count": 14,
   "metadata": {},
   "outputs": [],
   "source": [
    "model = Sequential()\n",
    "model.add(BatchNormalization())\n",
    "model.add(Dense(4, input_shape=(6,)))\n",
    "model.add(Activation('tanh'))\n",
    "model.add(Dropout(0.2))\n",
    "model.add(BatchNormalization())\n",
    "model.add(Dense(2))\n",
    "model.add(Activation('linear'))\n",
    "model.compile(loss='mean_squared_error', optimizer='Adam')"
   ]
  },
  {
   "cell_type": "code",
   "execution_count": 15,
   "metadata": {},
   "outputs": [
    {
     "name": "stdout",
     "output_type": "stream",
     "text": [
      "Train on 18555 samples, validate on 4639 samples\n",
      "Epoch 1/50\n",
      "18555/18555 [==============================] - 2s 114us/step - loss: 7936.4385 - val_loss: 7505.5439\n",
      "Epoch 2/50\n",
      "18555/18555 [==============================] - 2s 86us/step - loss: 6830.4515 - val_loss: 6069.6328\n",
      "Epoch 3/50\n",
      "18555/18555 [==============================] - 2s 84us/step - loss: 5242.4606 - val_loss: 4414.9308\n",
      "Epoch 4/50\n",
      "18555/18555 [==============================] - 1s 77us/step - loss: 3652.2173 - val_loss: 2934.3837\n",
      "Epoch 5/50\n",
      "18555/18555 [==============================] - 2s 86us/step - loss: 2320.3392 - val_loss: 1752.4020\n",
      "Epoch 6/50\n",
      "18555/18555 [==============================] - 1s 77us/step - loss: 1285.9346 - val_loss: 871.7949\n",
      "Epoch 7/50\n",
      "18555/18555 [==============================] - 1s 80us/step - loss: 573.6768 - val_loss: 330.7960\n",
      "Epoch 8/50\n",
      "18555/18555 [==============================] - 2s 90us/step - loss: 188.1949 - val_loss: 85.2234\n",
      "Epoch 9/50\n",
      "18555/18555 [==============================] - 2s 84us/step - loss: 40.1098 - val_loss: 12.6580\n",
      "Epoch 10/50\n",
      "18555/18555 [==============================] - 2s 84us/step - loss: 4.7369 - val_loss: 0.8890\n",
      "Epoch 11/50\n",
      "18555/18555 [==============================] - 2s 85us/step - loss: 0.2592 - val_loss: 0.0247\n",
      "Epoch 12/50\n",
      "18555/18555 [==============================] - 1s 80us/step - loss: 0.0069 - val_loss: 0.0018\n",
      "Epoch 13/50\n",
      "18555/18555 [==============================] - 2s 91us/step - loss: 0.0018 - val_loss: 0.0015\n",
      "Epoch 14/50\n",
      "18555/18555 [==============================] - 2s 101us/step - loss: 0.0017 - val_loss: 0.0014\n",
      "Epoch 15/50\n",
      "18555/18555 [==============================] - 2s 119us/step - loss: 0.0016 - val_loss: 0.0013\n",
      "Epoch 16/50\n",
      "18555/18555 [==============================] - 1s 79us/step - loss: 0.0016 - val_loss: 0.0013\n",
      "Epoch 17/50\n",
      "18555/18555 [==============================] - 2s 82us/step - loss: 0.0016 - val_loss: 0.0012\n",
      "Epoch 18/50\n",
      "18555/18555 [==============================] - 1s 71us/step - loss: 0.0016 - val_loss: 0.0012\n",
      "Epoch 19/50\n",
      "18555/18555 [==============================] - 1s 72us/step - loss: 0.0016 - val_loss: 0.0014\n",
      "Epoch 20/50\n",
      "18555/18555 [==============================] - 1s 71us/step - loss: 0.0016 - val_loss: 0.0013\n",
      "Epoch 21/50\n",
      "18555/18555 [==============================] - 1s 71us/step - loss: 0.0016 - val_loss: 0.0013\n",
      "Epoch 22/50\n",
      "18555/18555 [==============================] - 1s 71us/step - loss: 0.0016 - val_loss: 0.0014\n",
      "Epoch 23/50\n",
      "18555/18555 [==============================] - 1s 71us/step - loss: 0.0016 - val_loss: 0.0012\n",
      "Epoch 24/50\n",
      "18555/18555 [==============================] - 1s 71us/step - loss: 0.0016 - val_loss: 0.0013\n",
      "Epoch 25/50\n",
      "18555/18555 [==============================] - 1s 72us/step - loss: 0.0016 - val_loss: 0.0013\n",
      "Epoch 26/50\n",
      "18555/18555 [==============================] - 1s 71us/step - loss: 0.0016 - val_loss: 0.0013\n",
      "Epoch 27/50\n",
      "18555/18555 [==============================] - 1s 71us/step - loss: 0.0016 - val_loss: 0.0012\n",
      "Epoch 28/50\n",
      "18555/18555 [==============================] - 1s 71us/step - loss: 0.0016 - val_loss: 0.0014\n",
      "Epoch 29/50\n",
      "18555/18555 [==============================] - 1s 71us/step - loss: 0.0016 - val_loss: 0.0012\n",
      "Epoch 30/50\n",
      "18555/18555 [==============================] - 1s 71us/step - loss: 0.0016 - val_loss: 0.0012\n",
      "Epoch 31/50\n",
      "18555/18555 [==============================] - 1s 71us/step - loss: 0.0016 - val_loss: 0.0012\n",
      "Epoch 32/50\n",
      "18555/18555 [==============================] - 1s 70us/step - loss: 0.0016 - val_loss: 0.0013\n",
      "Epoch 33/50\n",
      "18555/18555 [==============================] - 1s 71us/step - loss: 0.0016 - val_loss: 0.0013\n",
      "Epoch 34/50\n",
      "18555/18555 [==============================] - 1s 72us/step - loss: 0.0016 - val_loss: 0.0013\n",
      "Epoch 35/50\n",
      "18555/18555 [==============================] - 1s 72us/step - loss: 0.0016 - val_loss: 0.0012\n",
      "Epoch 36/50\n",
      "18555/18555 [==============================] - 1s 71us/step - loss: 0.0016 - val_loss: 0.0012\n",
      "Epoch 37/50\n",
      "18555/18555 [==============================] - 1s 71us/step - loss: 0.0016 - val_loss: 0.0012\n",
      "Epoch 38/50\n",
      "18555/18555 [==============================] - 1s 71us/step - loss: 0.0016 - val_loss: 0.0014\n",
      "Epoch 39/50\n",
      "18555/18555 [==============================] - 1s 71us/step - loss: 0.0016 - val_loss: 0.0014\n",
      "Epoch 40/50\n",
      "18555/18555 [==============================] - 1s 72us/step - loss: 0.0016 - val_loss: 0.0013\n",
      "Epoch 41/50\n",
      "18555/18555 [==============================] - 1s 71us/step - loss: 0.0016 - val_loss: 0.0013\n",
      "Epoch 42/50\n",
      "18555/18555 [==============================] - 1s 71us/step - loss: 0.0016 - val_loss: 0.0013\n",
      "Epoch 43/50\n",
      "18555/18555 [==============================] - 1s 71us/step - loss: 0.0016 - val_loss: 0.0012\n",
      "Epoch 44/50\n",
      "18555/18555 [==============================] - 2s 110us/step - loss: 0.0016 - val_loss: 0.0012\n",
      "Epoch 45/50\n",
      "18555/18555 [==============================] - 2s 116us/step - loss: 0.0016 - val_loss: 0.0012\n",
      "Epoch 46/50\n",
      "18555/18555 [==============================] - 2s 114us/step - loss: 0.0016 - val_loss: 0.0013\n",
      "Epoch 47/50\n",
      "18555/18555 [==============================] - 2s 132us/step - loss: 0.0016 - val_loss: 0.0012\n",
      "Epoch 48/50\n",
      "18555/18555 [==============================] - 2s 134us/step - loss: 0.0016 - val_loss: 0.0012\n",
      "Epoch 49/50\n",
      "18555/18555 [==============================] - 2s 119us/step - loss: 0.0016 - val_loss: 0.0018\n",
      "Epoch 50/50\n",
      "18555/18555 [==============================] - 2s 113us/step - loss: 0.0016 - val_loss: 0.0011\n",
      "MSE on training set 0.001610309757622663\n",
      "MSE on testing set 0.0011403552827822904\n"
     ]
    }
   ],
   "source": [
    "history = model.fit(X_train, Y_train, epochs=50, validation_data=(X_test, Y_test), verbose=1)\n",
    "print(f'MSE on training set {history.history[\"loss\"][-1]}')\n",
    "print(f'MSE on testing set {history.history[\"val_loss\"][-1]}')"
   ]
  },
  {
   "cell_type": "markdown",
   "metadata": {},
   "source": [
    "The neural network is trained for 50 epoches. Bellow, the training and testing losses are plotted. From the graph, we see that the network does not overfit. I exclude MSE of the first 15 epochs. Therefore, the MSE is already small and the difference between the train and test curve is visible. Otherwise, the loss at the first 15 epochs of the training is high and the two curves cannot be readable."
   ]
  },
  {
   "cell_type": "code",
   "execution_count": 16,
   "metadata": {},
   "outputs": [
    {
     "data": {
      "image/png": "[encoded data removed]",
      "text/plain": [
       "<Figure size 432x288 with 1 Axes>"
      ]
     },
     "metadata": {
      "needs_background": "light"
     },
     "output_type": "display_data"
    }
   ],
   "source": [
    "_, ax = plt.subplots()\n",
    "ax.plot(history.history['loss'][15:])\n",
    "ax.plot(history.history['val_loss'][15:])\n",
    "plt.title('Model MSE')\n",
    "plt.ylabel('MSE')\n",
    "plt.xlabel('Epoch')\n",
    "ax.set_xticklabels(np.arange(5, 55, 5))\n",
    "plt.legend(['Train', 'Test'], loc='upper right')\n",
    "plt.show()"
   ]
  },
  {
   "cell_type": "code",
   "execution_count": 17,
   "metadata": {},
   "outputs": [],
   "source": [
    "Y_pred = model.predict(X_test)"
   ]
  },
  {
   "cell_type": "markdown",
   "metadata": {},
   "source": [
    "## Question 2: Second Model for predicting next place (GBM)"
   ]
  },
  {
   "cell_type": "markdown",
   "metadata": {},
   "source": [
    "In this model I try to predict Latitude and Longitude seperately. After predict the next Latitude and Longitude we can predict next coordinates. I use Gradient Boosting Modelling techniques. \n",
    "\n",
    "In order to understand the Gradient Boosting, first we have to understand what is boosting.\n",
    "\n",
    "Boosting: It is an approach where you take random samples of data, however the selection of sample is made more intelligently. We subsequently give more and more weight to hard to classify observations. \n",
    "\n",
    "So Gradient Boosting basically combines weak learners into a single strong learner in an iterative fashion"
   ]
  },
  {
   "cell_type": "markdown",
   "metadata": {},
   "source": [
    "### Calculating Latitude "
   ]
  },
  {
   "cell_type": "code",
   "execution_count": 18,
   "metadata": {},
   "outputs": [],
   "source": [
    "TaxiDrivers = SelectedFiles[0]\n",
    "\n",
    "DataLat = []\n",
    "with open(file=jp(path, TaxiDrivers), mode='r') as f:\n",
    "     for line in f:\n",
    "        Latitude, Longitute, Occupation, TS = line.split()\n",
    "        DataLat.append([Latitude])\n"
   ]
  },
  {
   "cell_type": "code",
   "execution_count": 19,
   "metadata": {},
   "outputs": [],
   "source": [
    "XLat = []\n",
    "YLat = []\n",
    "timeseries = 3\n",
    "for x in range(len(DataLat) - timeseries):\n",
    "    TimeSteps = DataLat[x:x + timeseries]\n",
    "    XLat.append([TS for TimeStep in TimeSteps for TS in TimeStep])\n",
    "    YLat.append(DataLat[x + timeseries])"
   ]
  },
  {
   "cell_type": "code",
   "execution_count": 20,
   "metadata": {},
   "outputs": [],
   "source": [
    "TraingTestSize = round(len(X) * 0.8)\n",
    "\n",
    "XLat_train = np.array(XLat[:TraingTestSize])\n",
    "XLat_test = np.array(XLat[TraingTestSize:])\n",
    "\n",
    "YLat_train = np.array(YLat[:TraingTestSize])\n",
    "YLat_test = np.array(YLat[TraingTestSize:])\n",
    "\n",
    "import numpy as np\n",
    "XLat_train=XLat_train.astype(np.float)\n",
    "XLat_test=XLat_test.astype(np.float)\n",
    "YLat_train=YLat_train.astype(np.float)\n",
    "YLat_test=YLat_test.astype(np.float)"
   ]
  },
  {
   "cell_type": "code",
   "execution_count": 21,
   "metadata": {},
   "outputs": [
    {
     "name": "stderr",
     "output_type": "stream",
     "text": [
      "/Users/mustafaozturk/anaconda3/lib/python3.7/site-packages/sklearn/ensemble/gradient_boosting.py:1450: DataConversionWarning: A column-vector y was passed when a 1d array was expected. Please change the shape of y to (n_samples, ), for example using ravel().\n",
      "  y = column_or_1d(y, warn=True)\n"
     ]
    },
    {
     "data": {
      "text/plain": [
       "array([37.79872136, 37.80018943, 37.80261972, ..., 37.71015898,\n",
       "       37.69753669, 37.67938896])"
      ]
     },
     "execution_count": 21,
     "metadata": {},
     "output_type": "execute_result"
    }
   ],
   "source": [
    "from sklearn.ensemble import GradientBoostingRegressor \n",
    "gbmregressor=GradientBoostingRegressor(n_estimators=100) \n",
    "model_gbm_Lat=gbmregressor.fit(XLat_train, YLat_train) \n",
    "pred_gbm_Lat=model_gbm_Lat.predict(XLat_test) \n",
    "pred_gbm_Lat"
   ]
  },
  {
   "cell_type": "markdown",
   "metadata": {},
   "source": [
    "### Latitude Model Evaluation"
   ]
  },
  {
   "cell_type": "code",
   "execution_count": 22,
   "metadata": {},
   "outputs": [],
   "source": [
    "YLat_test_2=YLat_test.reshape(-1)"
   ]
  },
  {
   "cell_type": "code",
   "execution_count": 23,
   "metadata": {},
   "outputs": [],
   "source": [
    "actual_Lat=pd.Series(YLat_test_2)\n",
    "pred_Lat=pd.Series(pred_gbm_Lat).reset_index()\n",
    "result_Lat=pd.concat([actual_Lat,pred_Lat],axis=1)"
   ]
  },
  {
   "cell_type": "code",
   "execution_count": 24,
   "metadata": {},
   "outputs": [
    {
     "data": {
      "text/html": [
       "<div>\n",
       "<style scoped>\n",
       "    .dataframe tbody tr th:only-of-type {\n",
       "        vertical-align: middle;\n",
       "    }\n",
       "\n",
       "    .dataframe tbody tr th {\n",
       "        vertical-align: top;\n",
       "    }\n",
       "\n",
       "    .dataframe thead th {\n",
       "        text-align: right;\n",
       "    }\n",
       "</style>\n",
       "<table border=\"1\" class=\"dataframe\">\n",
       "  <thead>\n",
       "    <tr style=\"text-align: right;\">\n",
       "      <th></th>\n",
       "      <th>actual_Lat</th>\n",
       "      <th>pred_Lat</th>\n",
       "    </tr>\n",
       "  </thead>\n",
       "  <tbody>\n",
       "    <tr>\n",
       "      <td>0</td>\n",
       "      <td>37.80</td>\n",
       "      <td>37.80</td>\n",
       "    </tr>\n",
       "    <tr>\n",
       "      <td>1</td>\n",
       "      <td>37.80</td>\n",
       "      <td>37.80</td>\n",
       "    </tr>\n",
       "    <tr>\n",
       "      <td>2</td>\n",
       "      <td>37.80</td>\n",
       "      <td>37.80</td>\n",
       "    </tr>\n",
       "    <tr>\n",
       "      <td>3</td>\n",
       "      <td>37.80</td>\n",
       "      <td>37.80</td>\n",
       "    </tr>\n",
       "    <tr>\n",
       "      <td>4</td>\n",
       "      <td>37.80</td>\n",
       "      <td>37.80</td>\n",
       "    </tr>\n",
       "    <tr>\n",
       "      <td>...</td>\n",
       "      <td>...</td>\n",
       "      <td>...</td>\n",
       "    </tr>\n",
       "    <tr>\n",
       "      <td>4634</td>\n",
       "      <td>37.73</td>\n",
       "      <td>37.74</td>\n",
       "    </tr>\n",
       "    <tr>\n",
       "      <td>4635</td>\n",
       "      <td>37.72</td>\n",
       "      <td>37.73</td>\n",
       "    </tr>\n",
       "    <tr>\n",
       "      <td>4636</td>\n",
       "      <td>37.70</td>\n",
       "      <td>37.71</td>\n",
       "    </tr>\n",
       "    <tr>\n",
       "      <td>4637</td>\n",
       "      <td>37.69</td>\n",
       "      <td>37.70</td>\n",
       "    </tr>\n",
       "    <tr>\n",
       "      <td>4638</td>\n",
       "      <td>37.68</td>\n",
       "      <td>37.68</td>\n",
       "    </tr>\n",
       "  </tbody>\n",
       "</table>\n",
       "<p>4639 rows × 2 columns</p>\n",
       "</div>"
      ],
      "text/plain": [
       "      actual_Lat  pred_Lat\n",
       "0          37.80     37.80\n",
       "1          37.80     37.80\n",
       "2          37.80     37.80\n",
       "3          37.80     37.80\n",
       "4          37.80     37.80\n",
       "...          ...       ...\n",
       "4634       37.73     37.74\n",
       "4635       37.72     37.73\n",
       "4636       37.70     37.71\n",
       "4637       37.69     37.70\n",
       "4638       37.68     37.68\n",
       "\n",
       "[4639 rows x 2 columns]"
      ]
     },
     "execution_count": 24,
     "metadata": {},
     "output_type": "execute_result"
    }
   ],
   "source": [
    "result_Lat.set_index(\"index\",inplace=True)\n",
    "result_Lat.index.name=None\n",
    "result_Lat.columns = ['actual_Lat', 'pred_Lat']\n",
    "result_Lat"
   ]
  },
  {
   "cell_type": "code",
   "execution_count": 25,
   "metadata": {},
   "outputs": [],
   "source": [
    "error_Lat=result_Lat.actual_Lat-result_Lat.pred_Lat\n",
    "\n",
    "R2_Lat=np.corrcoef(result_Lat.actual_Lat,result_Lat.pred_Lat)\n",
    "MSE_Lat=(error_Lat**2).mean()\n",
    "RMSE_Lat=(np.sqrt(MSE_Lat)).mean()\n",
    "MAE_Lat=(np.abs(error_Lat)).mean()\n",
    "MAPE_Lat=(np.abs(error_Lat)/result_Lat.actual_Lat).mean()"
   ]
  },
  {
   "cell_type": "code",
   "execution_count": 26,
   "metadata": {},
   "outputs": [
    {
     "data": {
      "text/plain": [
       "(array([[1.        , 0.99456466],\n",
       "        [0.99456466, 1.        ]]),\n",
       " 3.226979613204282e-05,\n",
       " 0.005680651030651576,\n",
       " 0.002505415378665047,\n",
       " 6.63957904858054e-05)"
      ]
     },
     "execution_count": 26,
     "metadata": {},
     "output_type": "execute_result"
    }
   ],
   "source": [
    "R2_Lat,MSE_Lat,RMSE_Lat,MAE_Lat,MAPE_Lat"
   ]
  },
  {
   "cell_type": "markdown",
   "metadata": {},
   "source": [
    "## Calculating Longitude"
   ]
  },
  {
   "cell_type": "code",
   "execution_count": 27,
   "metadata": {},
   "outputs": [],
   "source": [
    "TaxiDrivers = SelectedFiles[0]\n",
    "\n",
    "DataLon = []\n",
    "with open(file=jp(path, TaxiDrivers), mode='r') as f:\n",
    "     for line in f:\n",
    "        Latitude, Longitute, Occupation, TS = line.split()\n",
    "        DataLon.append([Longitute])"
   ]
  },
  {
   "cell_type": "code",
   "execution_count": 28,
   "metadata": {},
   "outputs": [],
   "source": [
    "XLon = []\n",
    "YLon = []\n",
    "timeseries = 3\n",
    "for x in range(len(DataLon) - timeseries):\n",
    "    TimeSteps = DataLon[x:x + timeseries]\n",
    "    XLon.append([TS for TimeStep in TimeSteps for TS in TimeStep])\n",
    "    YLon.append(DataLon[x + timeseries])"
   ]
  },
  {
   "cell_type": "code",
   "execution_count": 29,
   "metadata": {},
   "outputs": [],
   "source": [
    "TraingTestSize = round(len(X) * 0.8)\n",
    "\n",
    "XLon_train = np.array(XLon[:TraingTestSize])\n",
    "XLon_test = np.array(XLon[TraingTestSize:])\n",
    "\n",
    "YLon_train = np.array(YLon[:TraingTestSize])\n",
    "YLon_test = np.array(YLon[TraingTestSize:])\n",
    "\n",
    "import numpy as np\n",
    "XLon_train=XLon_train.astype(np.float)\n",
    "XLon_test=XLon_test.astype(np.float)\n",
    "YLon_train=YLon_train.astype(np.float)\n",
    "YLon_test=YLon_test.astype(np.float)"
   ]
  },
  {
   "cell_type": "code",
   "execution_count": 30,
   "metadata": {},
   "outputs": [
    {
     "name": "stderr",
     "output_type": "stream",
     "text": [
      "/Users/mustafaozturk/anaconda3/lib/python3.7/site-packages/sklearn/ensemble/gradient_boosting.py:1450: DataConversionWarning: A column-vector y was passed when a 1d array was expected. Please change the shape of y to (n_samples, ), for example using ravel().\n",
      "  y = column_or_1d(y, warn=True)\n"
     ]
    },
    {
     "data": {
      "text/plain": [
       "array([-122.40976308, -122.41442735, -122.41703373, ..., -122.39755676,\n",
       "       -122.39394557, -122.39130202])"
      ]
     },
     "execution_count": 30,
     "metadata": {},
     "output_type": "execute_result"
    }
   ],
   "source": [
    "from sklearn.ensemble import GradientBoostingRegressor \n",
    "gbmregressor=GradientBoostingRegressor(n_estimators=100) \n",
    "model_gbm_Lon=gbmregressor.fit(XLon_train, YLon_train) \n",
    "pred_gbm_Lon=model_gbm_Lon.predict(XLon_test) \n",
    "pred_gbm_Lon"
   ]
  },
  {
   "cell_type": "markdown",
   "metadata": {},
   "source": [
    "### Longitude Model Evaluations"
   ]
  },
  {
   "cell_type": "code",
   "execution_count": 31,
   "metadata": {},
   "outputs": [],
   "source": [
    "YLon_test_2=YLon_test.reshape(-1)"
   ]
  },
  {
   "cell_type": "code",
   "execution_count": 32,
   "metadata": {},
   "outputs": [],
   "source": [
    "actual_Lon=pd.Series(YLon_test_2)\n",
    "pred_Lon=pd.Series(pred_gbm_Lon).reset_index()\n",
    "result_Lon=pd.concat([actual_Lon,pred_Lon],axis=1)"
   ]
  },
  {
   "cell_type": "code",
   "execution_count": 33,
   "metadata": {},
   "outputs": [
    {
     "data": {
      "text/html": [
       "<div>\n",
       "<style scoped>\n",
       "    .dataframe tbody tr th:only-of-type {\n",
       "        vertical-align: middle;\n",
       "    }\n",
       "\n",
       "    .dataframe tbody tr th {\n",
       "        vertical-align: top;\n",
       "    }\n",
       "\n",
       "    .dataframe thead th {\n",
       "        text-align: right;\n",
       "    }\n",
       "</style>\n",
       "<table border=\"1\" class=\"dataframe\">\n",
       "  <thead>\n",
       "    <tr style=\"text-align: right;\">\n",
       "      <th></th>\n",
       "      <th>actual_Lon</th>\n",
       "      <th>pred_Lon</th>\n",
       "    </tr>\n",
       "  </thead>\n",
       "  <tbody>\n",
       "    <tr>\n",
       "      <td>0</td>\n",
       "      <td>-122.41</td>\n",
       "      <td>-122.41</td>\n",
       "    </tr>\n",
       "    <tr>\n",
       "      <td>1</td>\n",
       "      <td>-122.42</td>\n",
       "      <td>-122.41</td>\n",
       "    </tr>\n",
       "    <tr>\n",
       "      <td>2</td>\n",
       "      <td>-122.42</td>\n",
       "      <td>-122.42</td>\n",
       "    </tr>\n",
       "    <tr>\n",
       "      <td>3</td>\n",
       "      <td>-122.43</td>\n",
       "      <td>-122.42</td>\n",
       "    </tr>\n",
       "    <tr>\n",
       "      <td>4</td>\n",
       "      <td>-122.43</td>\n",
       "      <td>-122.43</td>\n",
       "    </tr>\n",
       "    <tr>\n",
       "      <td>...</td>\n",
       "      <td>...</td>\n",
       "      <td>...</td>\n",
       "    </tr>\n",
       "    <tr>\n",
       "      <td>4634</td>\n",
       "      <td>-122.40</td>\n",
       "      <td>-122.41</td>\n",
       "    </tr>\n",
       "    <tr>\n",
       "      <td>4635</td>\n",
       "      <td>-122.40</td>\n",
       "      <td>-122.40</td>\n",
       "    </tr>\n",
       "    <tr>\n",
       "      <td>4636</td>\n",
       "      <td>-122.39</td>\n",
       "      <td>-122.40</td>\n",
       "    </tr>\n",
       "    <tr>\n",
       "      <td>4637</td>\n",
       "      <td>-122.39</td>\n",
       "      <td>-122.39</td>\n",
       "    </tr>\n",
       "    <tr>\n",
       "      <td>4638</td>\n",
       "      <td>-122.39</td>\n",
       "      <td>-122.39</td>\n",
       "    </tr>\n",
       "  </tbody>\n",
       "</table>\n",
       "<p>4639 rows × 2 columns</p>\n",
       "</div>"
      ],
      "text/plain": [
       "      actual_Lon  pred_Lon\n",
       "0        -122.41   -122.41\n",
       "1        -122.42   -122.41\n",
       "2        -122.42   -122.42\n",
       "3        -122.43   -122.42\n",
       "4        -122.43   -122.43\n",
       "...          ...       ...\n",
       "4634     -122.40   -122.41\n",
       "4635     -122.40   -122.40\n",
       "4636     -122.39   -122.40\n",
       "4637     -122.39   -122.39\n",
       "4638     -122.39   -122.39\n",
       "\n",
       "[4639 rows x 2 columns]"
      ]
     },
     "execution_count": 33,
     "metadata": {},
     "output_type": "execute_result"
    }
   ],
   "source": [
    "result_Lon.set_index(\"index\",inplace=True)\n",
    "result_Lon.index.name=None\n",
    "result_Lon.columns = ['actual_Lon', 'pred_Lon']\n",
    "result_Lon"
   ]
  },
  {
   "cell_type": "code",
   "execution_count": 34,
   "metadata": {},
   "outputs": [],
   "source": [
    "error_Lon=result_Lon.actual_Lon-result_Lon.pred_Lon\n",
    "\n",
    "R2_Lon=np.corrcoef(result_Lon.actual_Lon,result_Lon.pred_Lon)\n",
    "MSE_Lon=(error_Lon**2).mean()\n",
    "RMSE_Lon=(np.sqrt(MSE_Lon)).mean()\n",
    "MAE_Lon=(np.abs(error_Lon)).mean()\n",
    "MAPE_Lon=(np.abs(error_Lon)/result_Lon.actual_Lon).mean()"
   ]
  },
  {
   "cell_type": "code",
   "execution_count": 35,
   "metadata": {},
   "outputs": [
    {
     "data": {
      "text/plain": [
       "(array([[1.        , 0.99248799],\n",
       "        [0.99248799, 1.        ]]),\n",
       " 2.0495762688422413e-05,\n",
       " 0.004527224612102034,\n",
       " 0.0025994435437172855,\n",
       " -2.1235399519980533e-05)"
      ]
     },
     "execution_count": 35,
     "metadata": {},
     "output_type": "execute_result"
    }
   ],
   "source": [
    "R2_Lon,MSE_Lon,RMSE_Lon,MAE_Lon,MAPE_Lon"
   ]
  },
  {
   "cell_type": "code",
   "execution_count": 36,
   "metadata": {},
   "outputs": [],
   "source": [
    "Y_test_Final = np.concatenate([YLat_test, YLon_test], axis=1)"
   ]
  },
  {
   "cell_type": "code",
   "execution_count": 37,
   "metadata": {},
   "outputs": [],
   "source": [
    "Pred_Final = np.concatenate([pred_gbm_Lat.reshape(-1,1), pred_gbm_Lon.reshape(-1,1)], axis=1)"
   ]
  },
  {
   "cell_type": "code",
   "execution_count": 38,
   "metadata": {},
   "outputs": [
    {
     "data": {
      "text/plain": [
       "array([37.79872136, 37.80018943, 37.80261972, ..., 37.71015898,\n",
       "       37.69753669, 37.67938896])"
      ]
     },
     "execution_count": 38,
     "metadata": {},
     "output_type": "execute_result"
    }
   ],
   "source": [
    "pred_gbm_Lat"
   ]
  },
  {
   "cell_type": "markdown",
   "metadata": {},
   "source": [
    "# STEP 5 – EVALUATION (NN and GBM Models)"
   ]
  },
  {
   "cell_type": "markdown",
   "metadata": {},
   "source": [
    "You’ll evaluate not just the models you create but also the process that you used to create them, and their potential for practical use.\n",
    "\n",
    "The evaluation phase includes three tasks. These are;\n",
    "\n",
    "Evaluating results\n",
    "\n",
    "Reviewing the process\n",
    "\n",
    "Determining the next steps"
   ]
  },
  {
   "cell_type": "code",
   "execution_count": 39,
   "metadata": {},
   "outputs": [
    {
     "data": {
      "image/png": "[encoded data removed]",
      "text/plain": [
       "<Figure size 1440x1440 with 4 Axes>"
      ]
     },
     "metadata": {
      "needs_background": "light"
     },
     "output_type": "display_data"
    }
   ],
   "source": [
    "plt.figure(figsize=(20, 20))\n",
    "plt.subplot(421)\n",
    "plt.scatter(pd.to_numeric(Y_test[:,0]) + lat_offset, pd.to_numeric(Y_test[:,-1]) + long_offset)\n",
    "plt.title('NN True trajectory for {}'.format(taxi_driver.split('.')[0]))\n",
    "plt.ylabel('Latitude')\n",
    "plt.xlabel('Longitude')\n",
    " \n",
    "plt.subplot(422)\n",
    "plt.scatter(pd.to_numeric(Y_pred[:,0]) + lat_offset, pd.to_numeric(Y_pred[:,-1]) + long_offset)\n",
    "plt.title('NN Predicted trajectory {}'.format(taxi_driver.split('.')[0]))\n",
    "plt.ylabel('Latitude')\n",
    "plt.xlabel('Longitude')\n",
    " \n",
    "\n",
    "plt.subplot(423)\n",
    "#plt.scatter(pd.to_numeric(pred_gbm_Lat[:,0]) + lat_offset, pd.to_numeric(pred_gbm_Lat[:,-1]) + long_offset)\n",
    "plt.scatter(Pred_Final[:,0] + lat_offset, Pred_Final[:,-1] + long_offset)\n",
    "plt.title('GBM True trajectory {}'.format(taxi_driver.split('.')[0]))\n",
    "plt.ylabel('Latitude')\n",
    "plt.xlabel('Longitude')\n",
    " \n",
    " \n",
    "\n",
    "plt.subplot(424)\n",
    "#plt.scatter(pd.to_numeric(pred_gbm_Lat[:,0]) + lat_offset, pd.to_numeric(pred_gbm_Lat[:,-1]) + long_offset)\n",
    "plt.scatter(Pred_Final[:,0] + lat_offset, Pred_Final[:,-1] + long_offset)\n",
    "plt.title('GBM Predicted trajectory {}'.format(taxi_driver.split('.')[0]))\n",
    "plt.ylabel('Latitude')\n",
    "plt.xlabel('Longitude')\n",
    "\n",
    "plt.tight_layout()"
   ]
  },
  {
   "cell_type": "code",
   "execution_count": 40,
   "metadata": {},
   "outputs": [],
   "source": [
    "TaxiDrivers = SelectedFiles[0]\n",
    "\n",
    "Time = []\n",
    "with open(file=jp(path, TaxiDrivers), mode='r') as f:\n",
    "     for line in f:\n",
    "        Latitude, Longitute, Occupation, TS = line.split()\n",
    "        Time.append([TS])\n"
   ]
  },
  {
   "cell_type": "code",
   "execution_count": 41,
   "metadata": {},
   "outputs": [],
   "source": [
    "XTime = []\n",
    "YTime = []\n",
    "timeseries = 3\n",
    "for x in range(len(Time) - timeseries):\n",
    "    TimeSteps = Time[x:x + timeseries]\n",
    "    XTime.append([TS for TimeStep in TimeSteps for TS in TimeStep])\n",
    "    YTime.append(Time[x + timeseries])"
   ]
  },
  {
   "cell_type": "code",
   "execution_count": 42,
   "metadata": {},
   "outputs": [],
   "source": [
    "TraingTestSize = round(len(X) * 0.8)\n",
    "\n",
    "YTime_test = np.array(YTime[TraingTestSize:])\n",
    "\n",
    "import numpy as np\n",
    "YTime_test=YTime_test.astype(np.float)"
   ]
  },
  {
   "cell_type": "markdown",
   "metadata": {},
   "source": [
    "I also plot in the y-axis as a first dimension is Latitude, as a secondary dimension is Longitude. In the x-axis, I add time. Therefore, we can follow minutes by minutes latitude and longitude change. As a result, prediction looks good!"
   ]
  },
  {
   "cell_type": "code",
   "execution_count": 43,
   "metadata": {},
   "outputs": [
    {
     "data": {
      "text/plain": [
       "Text(0, 0.5, 'Longitude')"
      ]
     },
     "execution_count": 43,
     "metadata": {},
     "output_type": "execute_result"
    },
    {
     "data": {
      "image/png": "[encoded data removed]",
      "text/plain": [
       "<Figure size 432x288 with 2 Axes>"
      ]
     },
     "metadata": {
      "needs_background": "light"
     },
     "output_type": "display_data"
    },
    {
     "data": {
      "image/png": "[encoded data removed]",
      "text/plain": [
       "<Figure size 432x288 with 2 Axes>"
      ]
     },
     "metadata": {
      "needs_background": "light"
     },
     "output_type": "display_data"
    }
   ],
   "source": [
    "fig, ax1 = plt.subplots()\n",
    "\n",
    "ax2 = ax1.twinx()\n",
    "ax1.plot(YTime_test, YLat_test, 'g-')\n",
    "ax2.plot(YTime_test, YLon_test, 'b-')\n",
    "\n",
    "ax1.set_xlabel('Time')\n",
    "ax1.set_ylabel('Latitude', color='g')\n",
    "ax2.set_ylabel('Longitude', color='b')\n",
    "\n",
    "fig1, ax3 = plt.subplots()\n",
    "\n",
    "\n",
    "ax4 = ax3.twinx()\n",
    "ax3.plot(YTime_test, pred_gbm_Lat, 'g-')\n",
    "ax4.plot(YTime_test, pred_gbm_Lon, 'b-')\n",
    "\n",
    "ax3.set_xlabel('Time')\n",
    "ax3.set_ylabel('Latitude', color='g')\n",
    "ax4.set_ylabel('Longitude', color='b')"
   ]
  },
  {
   "cell_type": "code",
   "execution_count": 44,
   "metadata": {},
   "outputs": [
    {
     "name": "stdout",
     "output_type": "stream",
     "text": [
      "MSE on testing set for NN model 0.0011403552827822904\n",
      "MSE on testing set for GBM Latitude model 3.226979613204282e-05\n",
      "MSE on testing set for GBM Longitude model 2.0495762688422413e-05\n"
     ]
    }
   ],
   "source": [
    "print(f'MSE on testing set for NN model {history.history[\"val_loss\"][-1]}')\n",
    "print(f'MSE on testing set for GBM Latitude model {MSE_Lat}')\n",
    "print(f'MSE on testing set for GBM Longitude model {MSE_Lon}')"
   ]
  },
  {
   "cell_type": "markdown",
   "metadata": {},
   "source": [
    "First column is exact route for new_ajsnedsi taxi. Second column is predictions of models Neural Network and Gradient Boosting respectively. As you can see in previous plot GBM results are much better than Neural Network model. Also, when we compare Mean Squared Error of NN and GBM's Longitude, Latitude models GBM models’ results are much better than NN model.\n",
    "\n",
    "Note: The mean squared error tells you how close a regression line is to a set of points. It does this by taking the distances from the points to the regression line (these distances are the “errors”) and squaring them. The squaring is necessary to remove any negative signs. It also gives more weight to larger differences. It’s called the mean squared error as you’re finding the average of a set of errors.\n"
   ]
  },
  {
   "cell_type": "markdown",
   "metadata": {},
   "source": [
    "### Hyperparameter Tuning (did not perform)"
   ]
  },
  {
   "cell_type": "markdown",
   "metadata": {},
   "source": [
    "After selecting best algorithm, I am presenting with design choices as to how to define my model architecture. In order to find an optimal model architecture should be for a given model, I have to explore a range of possibilities. In true machine learning fashion, we'll ideally ask the machine to perform this exploration and select the optimal model architecture automatically. Parameters which define the model architecture are referred to as hyperparameters and thus this process of searching for the ideal model architecture is referred to as hyperparameter tuning. GridSearchCV is one of this approach.\n",
    "\n",
    "In GridSearchCV approach, machine learning model is evaluated for a range of hyperparameter values. This approach is called GridSearchCV, because it searches for best set of hyperparameters from a grid of hyperparameters values. This entire step is not perform because of time restiction. But I wrote coding steps of hyperparamet tuning below. "
   ]
  },
  {
   "cell_type": "markdown",
   "metadata": {},
   "source": [
    "#### Longitude hyperparameter"
   ]
  },
  {
   "cell_type": "code",
   "execution_count": 45,
   "metadata": {},
   "outputs": [],
   "source": [
    "#from sklearn.model_selection import ShuffleSplit\n",
    "\n",
    "#from sklearn.model_selection import GridSearchCV\n"
   ]
  },
  {
   "cell_type": "code",
   "execution_count": 46,
   "metadata": {},
   "outputs": [],
   "source": [
    "#XLon_train=XLon_train.astype(np.float)\n",
    "\n",
    "#XLon_test=XLon_test.astype(np.float)\n",
    "\n",
    "#YLon_train=YLon_train.astype(np.float)\n",
    "\n",
    "#YLon_test\n"
   ]
  },
  {
   "cell_type": "code",
   "execution_count": 47,
   "metadata": {},
   "outputs": [],
   "source": [
    "#def GradientBooster(param_grid, n_jobs):\n",
    "    \n",
    " #   estimator = GradientBoostingRegressor()\n",
    "    \n",
    "  #  cv = ShuffleSplit(XLon_train.shape[0], test_size=0.2)\n",
    "    \n",
    "    #classifier = GridSearchCV(estimator=estimator,cv=cv, param_grid=param_grid, n_jobs=n_jobs)\n",
    "    \n",
    "    #classifier.fit(XLon_train, YLon_train)\n",
    "    \n",
    "    #return cv, classifier.best_estimator_\n",
    "    "
   ]
  },
  {
   "cell_type": "code",
   "execution_count": 48,
   "metadata": {},
   "outputs": [],
   "source": [
    "#param_grid={'n_estimators':[100], \n",
    "\n",
    "#           'learning_rate': [0.1, 0.05, 0.02, 0.01],\n",
    "            \n",
    "#          'max_depth':[6],\n",
    "            \n",
    "#          'min_samples_leaf':[3,5,9,17],\n",
    "            \n",
    "#         'max_features':[1.0,0.3,0.1]\n",
    "            \n",
    "#          }\n",
    "\n",
    "#n_jobs=4\n",
    "\n",
    "#cv,best_est=GradientBooster(param_grid, n_jobs)"
   ]
  },
  {
   "cell_type": "code",
   "execution_count": 49,
   "metadata": {},
   "outputs": [],
   "source": [
    "#print \"Best Estimator Parameters\"\n",
    "\n",
    "#print\"---------------------------\"\n",
    "\n",
    "#print \"n_estimators: %d\" %best_est.n_estimators\n",
    "\n",
    "#print \"max_depth: %d\" %best_est.max_depth\n",
    "\n",
    "#print \"Learning Rate: %.1f\" %best_est.learning_rate\n",
    "\n",
    "#print \"min_samples_leaf: %d\" %best_est.min_samples_leaf\n",
    "\n",
    "#print \"max_features: %.1f\" %best_est.max_features\n",
    "\n",
    "#print \n",
    "\n",
    "#print \"Train R-squared: %.2f\" %best_est.score(XLon_train,YLon_train)"
   ]
  },
  {
   "cell_type": "code",
   "execution_count": 50,
   "metadata": {},
   "outputs": [],
   "source": [
    "#import numpy as np\n",
    "\n",
    "#import matplotlib.pyplot as plt\n",
    "\n",
    "#from sklearn import cross_validation\n",
    "\n",
    "#from sklearn.naive_bayes import GaussianNB \n",
    "\n",
    "#from sklearn.datasets import load_digits \n",
    "\n",
    "#from sklearn.learning_curve import learning_curve \n",
    "\n",
    "#def plot_learning_curve(estimator, title, X, y, ylim=None, cv=None, \n",
    "\n",
    "#        n_jobs=1, train_sizes=np.linspace(.1, 1.0, 5)):\n",
    "\n",
    "#    plt.figure() \n",
    "    \n",
    "#    plt.title(title) \n",
    "    \n",
    "#    if ylim is not None: \n",
    "    \n",
    "#        plt.ylim(*ylim) \n",
    "        \n",
    "#        plt.xlabel(\"Training examples\") \n",
    "        \n",
    "#        plt.ylabel(\"Score\") \n",
    "        \n",
    "#        train_sizes, \n",
    "        \n",
    "#        train_scores, \n",
    "        \n",
    "#        test_scores = learning_curve( estimator, X, y, cv=cv, n_jobs=n_jobs, train_sizes=train_sizes) \n",
    "        \n",
    "#        train_scores_mean = np.mean(train_scores, axis=1) \n",
    "        \n",
    "#        train_scores_std = np.std(train_scores, axis=1) \n",
    "        \n",
    "#        test_scores_mean = np.mean(test_scores, axis=1) \n",
    "        \n",
    "#        test_scores_std = np.std(test_scores, axis=1) \n",
    "        \n",
    "#        plt.grid() \n",
    "        \n",
    "#        plt.fill_between(train_sizes, train_scores_mean - train_scores_std, train_scores_mean + train_scores_std, alpha=0.1, color=\"r\") \n",
    "          \n",
    "#        plt.fill_between(train_sizes, test_scores_mean - test_scores_std, test_scores_mean + test_scores_std, alpha=0.1, color=\"g\") \n",
    "        \n",
    "#        plt.plot(train_sizes, train_scores_mean, 'o-', color=\"r\", label=\"Training score\") \n",
    "        \n",
    "#        plt.plot(train_sizes, test_scores_mean, 'o-', color=\"g\", label=\"Cross-validation score\") \n",
    "        \n",
    "#        plt.legend(loc=\"best\") \n",
    "        \n",
    "#        return plt"
   ]
  },
  {
   "cell_type": "code",
   "execution_count": 51,
   "metadata": {},
   "outputs": [],
   "source": [
    "#title = \"Learning Curves (Gradient Boosted Regression Trees)\" \n",
    "\n",
    "#estimator = GradientBoostingRegressor(n_estimators=best_est.n_estimators, max_depth=best_est.max_depth, \n",
    "#                                      learning_rate=best_est.learning_rate, \n",
    "                                      \n",
    "#min_samples_leaf=best_est.min_samples_leaf, \n",
    "#                                      max_features=best_est.max_features)\n",
    "\n",
    "#plot_learning_curve(estimator, title, XLon_train, YLon_train, cv=cv, n_jobs=n_jobs)\n",
    "\n",
    "#plt.show()"
   ]
  },
  {
   "cell_type": "code",
   "execution_count": 52,
   "metadata": {},
   "outputs": [],
   "source": [
    "##Switching back to the best model from gridsearch \n",
    "#estimator = best_est \n",
    "##Re-fitting to the train set \n",
    "#estimator.fit(XLon_train, YLon_train) \n",
    "##Calculating train/test scores - R-squared value \n",
    "#print \"Train R-squared: %.2f\" %estimator.score(XLon_train, YLon_train) \n",
    "#print \"Test R-squared: %.2f\" %estimator.score(XLon_test, YLon_test) "
   ]
  },
  {
   "cell_type": "code",
   "execution_count": 53,
   "metadata": {},
   "outputs": [],
   "source": [
    "#def GradientBoosterLat(param_grid, n_jobs):\n",
    "    \n",
    "#    estimator = GradientBoostingRegressor()\n",
    "    \n",
    "#    cv = ShuffleSplit(XLat_train.shape[0], test_size=0.2)\n",
    "    \n",
    "#    classifier = GridSearchCV(estimator=estimator,cv=cv, param_grid=param_grid, n_jobs=n_jobs)\n",
    "    \n",
    "#    classifier.fit(XLat_train, YLat_train)\n",
    "    \n",
    "#    return cv, classifier.best_estimator_"
   ]
  },
  {
   "cell_type": "code",
   "execution_count": 54,
   "metadata": {},
   "outputs": [],
   "source": [
    "#param_grid={'n_estimators':[100], \n",
    "#            'learning_rate': [0.1, 0.05, 0.02, 0.01],\n",
    "#            'max_depth':[6],\n",
    "#            'min_samples_leaf':[3,5,9,17],\n",
    "#            'max_features':[1.0,0.3,0.1]\n",
    "#            }\n",
    "#n_jobs=4\n",
    "#cv,best_est=GradientBoosterLat(param_grid, n_jobs)"
   ]
  },
  {
   "cell_type": "code",
   "execution_count": 55,
   "metadata": {},
   "outputs": [],
   "source": [
    "#print \"Best Estimator Parameters\"\n",
    "\n",
    "#print\"---------------------------\"\n",
    "#print \"n_estimators: %d\" %best_est.n_estimators\n",
    "#print \"max_depth: %d\" %best_est.max_depth\n",
    "#print \"Learning Rate: %.1f\" %best_est.learning_rate\n",
    "#print \"min_samples_leaf: %d\" %best_est.min_samples_leaf\n",
    "#print \"max_features: %.1f\" %best_est.max_features\n",
    "#print \n",
    "#print \"Train R-squared: %.2f\" %best_est.score(XLon_train,YLon_train)"
   ]
  },
  {
   "cell_type": "markdown",
   "metadata": {},
   "source": [
    "# STEP 4 – MODELLING"
   ]
  },
  {
   "cell_type": "markdown",
   "metadata": {},
   "source": [
    "## Modelling Occupancy"
   ]
  },
  {
   "cell_type": "code",
   "execution_count": 56,
   "metadata": {},
   "outputs": [],
   "source": [
    "import datetime\n",
    "\n",
    "def DateExtraction(row: Series):\n",
    "    dt = datetime.datetime.fromtimestamp(row['Timestamp'])\n",
    "    row['day'] = dt.weekday()\n",
    "    row['hour'] = dt.hour\n",
    "    row['minute'] = dt.minute\n",
    "    row['monthday'] = dt.day\n",
    "    return row"
   ]
  },
  {
   "cell_type": "code",
   "execution_count": 57,
   "metadata": {},
   "outputs": [],
   "source": [
    "data = pd.DataFrame()\n",
    "for f in SelectedFiles:\n",
    "    df = ConverttoDF(file_name=f)\n",
    "    df = PreviousCoordinates(df=df)\n",
    "    df = DistanceCalculation(df=df)\n",
    "    data = pd.concat([data, df])"
   ]
  },
  {
   "cell_type": "code",
   "execution_count": 58,
   "metadata": {},
   "outputs": [
    {
     "data": {
      "text/html": [
       "<div>\n",
       "<style scoped>\n",
       "    .dataframe tbody tr th:only-of-type {\n",
       "        vertical-align: middle;\n",
       "    }\n",
       "\n",
       "    .dataframe tbody tr th {\n",
       "        vertical-align: top;\n",
       "    }\n",
       "\n",
       "    .dataframe thead th {\n",
       "        text-align: right;\n",
       "    }\n",
       "</style>\n",
       "<table border=\"1\" class=\"dataframe\">\n",
       "  <thead>\n",
       "    <tr style=\"text-align: right;\">\n",
       "      <th></th>\n",
       "      <th>Latitude</th>\n",
       "      <th>Longitude</th>\n",
       "      <th>Occupancy</th>\n",
       "      <th>Timestamp</th>\n",
       "      <th>day</th>\n",
       "      <th>hour</th>\n",
       "      <th>minute</th>\n",
       "      <th>monthday</th>\n",
       "    </tr>\n",
       "  </thead>\n",
       "  <tbody>\n",
       "    <tr>\n",
       "      <td>new_ajsnedsi_1</td>\n",
       "      <td>37.75</td>\n",
       "      <td>-122.40</td>\n",
       "      <td>0.00</td>\n",
       "      <td>1211022396.00</td>\n",
       "      <td>5.00</td>\n",
       "      <td>14.00</td>\n",
       "      <td>6.00</td>\n",
       "      <td>17.00</td>\n",
       "    </tr>\n",
       "    <tr>\n",
       "      <td>new_ajsnedsi_2</td>\n",
       "      <td>37.75</td>\n",
       "      <td>-122.40</td>\n",
       "      <td>0.00</td>\n",
       "      <td>1211022456.00</td>\n",
       "      <td>5.00</td>\n",
       "      <td>14.00</td>\n",
       "      <td>7.00</td>\n",
       "      <td>17.00</td>\n",
       "    </tr>\n",
       "    <tr>\n",
       "      <td>new_ajsnedsi_3</td>\n",
       "      <td>37.75</td>\n",
       "      <td>-122.40</td>\n",
       "      <td>0.00</td>\n",
       "      <td>1211022516.00</td>\n",
       "      <td>5.00</td>\n",
       "      <td>14.00</td>\n",
       "      <td>8.00</td>\n",
       "      <td>17.00</td>\n",
       "    </tr>\n",
       "    <tr>\n",
       "      <td>new_ajsnedsi_4</td>\n",
       "      <td>37.75</td>\n",
       "      <td>-122.39</td>\n",
       "      <td>0.00</td>\n",
       "      <td>1211022577.00</td>\n",
       "      <td>5.00</td>\n",
       "      <td>14.00</td>\n",
       "      <td>9.00</td>\n",
       "      <td>17.00</td>\n",
       "    </tr>\n",
       "    <tr>\n",
       "      <td>new_ajsnedsi_5</td>\n",
       "      <td>37.77</td>\n",
       "      <td>-122.39</td>\n",
       "      <td>0.00</td>\n",
       "      <td>1211022637.00</td>\n",
       "      <td>5.00</td>\n",
       "      <td>14.00</td>\n",
       "      <td>10.00</td>\n",
       "      <td>17.00</td>\n",
       "    </tr>\n",
       "  </tbody>\n",
       "</table>\n",
       "</div>"
      ],
      "text/plain": [
       "                Latitude  Longitude  Occupancy     Timestamp  day  hour  \\\n",
       "new_ajsnedsi_1     37.75    -122.40       0.00 1211022396.00 5.00 14.00   \n",
       "new_ajsnedsi_2     37.75    -122.40       0.00 1211022456.00 5.00 14.00   \n",
       "new_ajsnedsi_3     37.75    -122.40       0.00 1211022516.00 5.00 14.00   \n",
       "new_ajsnedsi_4     37.75    -122.39       0.00 1211022577.00 5.00 14.00   \n",
       "new_ajsnedsi_5     37.77    -122.39       0.00 1211022637.00 5.00 14.00   \n",
       "\n",
       "                minute  monthday  \n",
       "new_ajsnedsi_1    6.00     17.00  \n",
       "new_ajsnedsi_2    7.00     17.00  \n",
       "new_ajsnedsi_3    8.00     17.00  \n",
       "new_ajsnedsi_4    9.00     17.00  \n",
       "new_ajsnedsi_5   10.00     17.00  "
      ]
     },
     "execution_count": 58,
     "metadata": {},
     "output_type": "execute_result"
    }
   ],
   "source": [
    "data = data[['Latitude', 'Longitude', 'Occupancy', 'Timestamp']]\n",
    "data['day'] = 0\n",
    "data['hour'] = 0\n",
    "data['minute'] = 0\n",
    "data['monthday'] = 0\n",
    "data = data.apply(lambda row: DateExtraction(row), axis=1)\n",
    "data.head()"
   ]
  },
  {
   "cell_type": "code",
   "execution_count": 59,
   "metadata": {},
   "outputs": [],
   "source": [
    "X = data.drop(labels=['Occupancy', 'Timestamp'], axis=1)\n",
    "X['Latitude'] = X['Latitude'] - lat_offset\n",
    "X['Longitude'] = X['Longitude'] - long_offset\n",
    "\n",
    "Y = data['Occupancy']"
   ]
  },
  {
   "cell_type": "code",
   "execution_count": 60,
   "metadata": {},
   "outputs": [],
   "source": [
    "X_train, X_test, Y_train, Y_test = train_test_split(X, Y, stratify=Y, test_size=0.2, random_state=0)"
   ]
  },
  {
   "cell_type": "markdown",
   "metadata": {},
   "source": [
    "#### Baseline Model"
   ]
  },
  {
   "cell_type": "markdown",
   "metadata": {},
   "source": [
    "I select a naive model that predicts always 0 for the next location. \n",
    "\n",
    "Naive model For naïve forecasts, we simply set all forecasts to be the value of the last observation.This method works remarkably well for many economic and financial time series."
   ]
  },
  {
   "cell_type": "code",
   "execution_count": 61,
   "metadata": {},
   "outputs": [
    {
     "name": "stdout",
     "output_type": "stream",
     "text": [
      "The baseline accuracy of a naive model is 0.549\n"
     ]
    }
   ],
   "source": [
    "baseline_acc = round(Y_test[Y_test == 0].shape[0] / Y_test.shape[0], 3)\n",
    "print(f'The baseline accuracy of a naive model is {baseline_acc}')"
   ]
  },
  {
   "cell_type": "markdown",
   "metadata": {},
   "source": [
    "#### Random Forest Model "
   ]
  },
  {
   "cell_type": "markdown",
   "metadata": {},
   "source": [
    "I also build Random Forests in order to predict if a datapoint is a pick-up location or not. RF outperforms the baseline approach significantly.\n",
    "\n",
    "Random forest, like its name implies, consists of a large number of individual decision trees that operate as an ensemble. Each individual tree in the random forest spits out a class prediction and the class with the most votes becomes our model’s prediction."
   ]
  },
  {
   "cell_type": "code",
   "execution_count": 62,
   "metadata": {},
   "outputs": [
    {
     "name": "stdout",
     "output_type": "stream",
     "text": [
      "The accuracy is 0.713\n"
     ]
    }
   ],
   "source": [
    "clf = RandomForestClassifier(n_estimators=200, max_depth=20, random_state=0)\n",
    "clf.fit(X_train, Y_train)\n",
    "Y_pred = clf.predict(X_test)\n",
    "acc = round(accuracy_score(Y_test, Y_pred), 3)\n",
    "print(f'The accuracy is {acc}')"
   ]
  },
  {
   "cell_type": "markdown",
   "metadata": {},
   "source": [
    "##### Feature Importance "
   ]
  },
  {
   "cell_type": "markdown",
   "metadata": {},
   "source": [
    "We can also inspect and interpret the trained Random Forest classifier by analyzing the importance of each feature. Coordindates are the most important features to classify a pick-up point whereas the day feature does not help the classifier."
   ]
  },
  {
   "cell_type": "code",
   "execution_count": 63,
   "metadata": {},
   "outputs": [
    {
     "data": {
      "image/png": "[encoded data removed]",
      "text/plain": [
       "<Figure size 432x288 with 1 Axes>"
      ]
     },
     "metadata": {
      "needs_background": "light"
     },
     "output_type": "display_data"
    }
   ],
   "source": [
    "importances = clf.feature_importances_\n",
    "std = np.std([tree.feature_importances_ for tree in clf.estimators_],\n",
    "             axis=0)\n",
    "indices = np.argsort(importances)[::-1]\n",
    "\n",
    "# Plot the feature importances of the forest\n",
    "plt.figure()\n",
    "plt.title(\"Feature importances\")\n",
    "plt.bar(range(X.shape[1]), importances[indices],\n",
    "       color=\"r\", yerr=std[indices], align=\"center\")\n",
    "plt.xticks(range(X_train.shape[1]), [X_train.columns.tolist()[idx]  for idx in indices])\n",
    "plt.xlim([-1, X_train.shape[1]])\n",
    "plt.show()"
   ]
  },
  {
   "cell_type": "markdown",
   "metadata": {},
   "source": [
    "### Adding new variable - Holiday Data"
   ]
  },
  {
   "cell_type": "markdown",
   "metadata": {},
   "source": [
    "I think also adding holiday and weather data will be very useful to our model. So I added holiday data as a flag and retrain Random Forest Classifier model. There is only one holiday in the given period of time which is Memorial Day(26th of May) .Result of both models are same but precision of predicting hailing a cab is increase 1%. Therefore we can use holiday flag for our model and it gives other data such as weather will be valuable."
   ]
  },
  {
   "cell_type": "code",
   "execution_count": 64,
   "metadata": {},
   "outputs": [
    {
     "name": "stdout",
     "output_type": "stream",
     "text": [
      "[datetime.datetime(2008, 1, 1, 0, 0) datetime.datetime(2008, 1, 21, 0, 0)\n",
      " datetime.datetime(2008, 2, 18, 0, 0) datetime.datetime(2008, 5, 26, 0, 0)\n",
      " datetime.datetime(2008, 7, 4, 0, 0) datetime.datetime(2008, 9, 1, 0, 0)\n",
      " datetime.datetime(2008, 10, 13, 0, 0)\n",
      " datetime.datetime(2008, 11, 11, 0, 0)\n",
      " datetime.datetime(2008, 11, 27, 0, 0)\n",
      " datetime.datetime(2008, 12, 25, 0, 0)]\n"
     ]
    }
   ],
   "source": [
    "from pandas.tseries.holiday import USFederalHolidayCalendar\n",
    "cal = USFederalHolidayCalendar()\n",
    "holidays = cal.holidays(start='2008-01-01', end='2008-12-31').to_pydatetime()\n",
    "print(holidays)"
   ]
  },
  {
   "cell_type": "code",
   "execution_count": 65,
   "metadata": {},
   "outputs": [],
   "source": [
    "data_new = data\n",
    "data_new['Holiday_Flag'] = [(lambda x: (x in holidays) * 1)(x) for x in data_new['Timestamp']]"
   ]
  },
  {
   "cell_type": "code",
   "execution_count": 66,
   "metadata": {},
   "outputs": [
    {
     "name": "stdout",
     "output_type": "stream",
     "text": [
      "                  Latitude  Longitude  Occupancy     Timestamp  day  hour  \\\n",
      "new_ajsnedsi_1       37.75    -122.40       0.00 1211022396.00 5.00 14.00   \n",
      "new_ajsnedsi_2       37.75    -122.40       0.00 1211022456.00 5.00 14.00   \n",
      "new_ajsnedsi_3       37.75    -122.40       0.00 1211022516.00 5.00 14.00   \n",
      "new_ajsnedsi_4       37.75    -122.39       0.00 1211022577.00 5.00 14.00   \n",
      "new_ajsnedsi_5       37.77    -122.39       0.00 1211022637.00 5.00 14.00   \n",
      "...                    ...        ...        ...           ...  ...   ...   \n",
      "new_idjojwa_4991     37.75    -122.39       0.00 1213088788.00 1.00 12.00   \n",
      "new_idjojwa_4992     37.75    -122.39       0.00 1213088817.00 1.00 12.00   \n",
      "new_idjojwa_4993     37.75    -122.39       0.00 1213088877.00 1.00 12.00   \n",
      "new_idjojwa_4994     37.75    -122.39       0.00 1213088937.00 1.00 12.00   \n",
      "new_idjojwa_4995     37.75    -122.39       0.00 1213088997.00 1.00 12.00   \n",
      "\n",
      "                  minute  monthday  Holiday_Flag  \n",
      "new_ajsnedsi_1      6.00     17.00             0  \n",
      "new_ajsnedsi_2      7.00     17.00             0  \n",
      "new_ajsnedsi_3      8.00     17.00             0  \n",
      "new_ajsnedsi_4      9.00     17.00             0  \n",
      "new_ajsnedsi_5     10.00     17.00             0  \n",
      "...                  ...       ...           ...  \n",
      "new_idjojwa_4991    6.00     10.00             0  \n",
      "new_idjojwa_4992    6.00     10.00             0  \n",
      "new_idjojwa_4993    7.00     10.00             0  \n",
      "new_idjojwa_4994    8.00     10.00             0  \n",
      "new_idjojwa_4995    9.00     10.00             0  \n",
      "\n",
      "[1079188 rows x 9 columns]\n"
     ]
    }
   ],
   "source": [
    "print(data_new)"
   ]
  },
  {
   "cell_type": "code",
   "execution_count": 67,
   "metadata": {},
   "outputs": [],
   "source": [
    "X_new = data.drop(labels=['Occupancy', 'Timestamp'], axis=1)\n",
    "X_new['Latitude'] = X_new['Latitude'] - lat_offset\n",
    "X_new['Longitude'] = X_new['Longitude'] - long_offset\n",
    "\n",
    "Y_new = data_new['Occupancy']"
   ]
  },
  {
   "cell_type": "code",
   "execution_count": 68,
   "metadata": {},
   "outputs": [],
   "source": [
    "X_new_train, X_new_test, Y_new_train, Y_new_test = train_test_split(X_new, Y_new, stratify=Y, test_size=0.2, random_state=0)"
   ]
  },
  {
   "cell_type": "code",
   "execution_count": 69,
   "metadata": {},
   "outputs": [
    {
     "name": "stdout",
     "output_type": "stream",
     "text": [
      "The baseline accuracy of a naive model is 0.549\n"
     ]
    }
   ],
   "source": [
    "baseline_acc_new = round(Y_new_test[Y_new_test == 0].shape[0] / Y_new_test.shape[0], 3)\n",
    "print(f'The baseline accuracy of a naive model is {baseline_acc_new}')"
   ]
  },
  {
   "cell_type": "code",
   "execution_count": 70,
   "metadata": {},
   "outputs": [
    {
     "name": "stdout",
     "output_type": "stream",
     "text": [
      "The accuracy is 0.715\n"
     ]
    }
   ],
   "source": [
    "clf_new = RandomForestClassifier(n_estimators=200, max_depth=20, random_state=0)\n",
    "clf_new.fit(X_new_train, Y_new_train)\n",
    "Y_pred_new = clf_new.predict(X_new_test)\n",
    "acc_new = round(accuracy_score(Y_new_test, Y_pred_new), 3)\n",
    "print(f'The accuracy is {acc_new}')"
   ]
  },
  {
   "cell_type": "code",
   "execution_count": 71,
   "metadata": {},
   "outputs": [
    {
     "data": {
      "image/png": "[encoded data removed]",
      "text/plain": [
       "<Figure size 432x288 with 1 Axes>"
      ]
     },
     "metadata": {
      "needs_background": "light"
     },
     "output_type": "display_data"
    }
   ],
   "source": [
    "importances = clf_new.feature_importances_\n",
    "std = np.std([tree.feature_importances_ for tree in clf_new.estimators_],\n",
    "             axis=0)\n",
    "indices = np.argsort(importances)[::-1]\n",
    "\n",
    "# Plot the feature importances of the forest\n",
    "plt.figure()\n",
    "plt.title(\"Feature importances\")\n",
    "plt.bar(range(X_new.shape[1]), importances[indices],\n",
    "       color=\"r\", yerr=std[indices], align=\"center\")\n",
    "plt.xticks(range(X_new_train.shape[1]), [X_new_train.columns.tolist()[idx]  for idx in indices])\n",
    "plt.xlim([-1, X_new_train.shape[1]])\n",
    "plt.show()"
   ]
  },
  {
   "cell_type": "markdown",
   "metadata": {},
   "source": [
    "### Model Comparisons "
   ]
  },
  {
   "cell_type": "markdown",
   "metadata": {},
   "source": [
    "I use accuracy as a metric, since the problem seems to be balanced (55% of the labels are 0 and 45% of the labels are 1). In a scenario with higher imbalance I could have used F1 score. So formulas and meanings for accuracy, F1 score, etc. below\n",
    "\n",
    "\n",
    "Accuracy: The proportion of the total number of predictions that were correct.\n",
    "\n",
    "Positive Predictive Value (Precision): The proportion of positive cases correctly identified.\n",
    "\n",
    "Negative Predictive Value: The proportion of negative cases correctly identified.\n",
    "\n",
    "Sensitivity (Recall): The proportion of actual positive cases correctly identified.\n",
    "\n",
    "Specificity: The proportion of actual negative cases correctly identified.\n",
    "\n",
    "F1 Score= (2 * Precision * Recall) / (Precision + Recall)\n",
    "\n",
    "Kappa = (Observed Accuracy -Expected Accuracy) / (1 -Expected Accuracy)"
   ]
  },
  {
   "cell_type": "code",
   "execution_count": 72,
   "metadata": {},
   "outputs": [
    {
     "name": "stdout",
     "output_type": "stream",
     "text": [
      "Confusion Matrix :\n",
      "[[84677 33834]\n",
      " [28152 69175]]\n",
      "Accuracy Score : 0.7128123870680788\n",
      "Report : \n",
      "              precision    recall  f1-score   support\n",
      "\n",
      "         0.0       0.75      0.71      0.73    118511\n",
      "         1.0       0.67      0.71      0.69     97327\n",
      "\n",
      "    accuracy                           0.71    215838\n",
      "   macro avg       0.71      0.71      0.71    215838\n",
      "weighted avg       0.71      0.71      0.71    215838\n",
      "\n"
     ]
    }
   ],
   "source": [
    "from sklearn.metrics import confusion_matrix \n",
    "from sklearn.metrics import accuracy_score \n",
    "from sklearn.metrics import classification_report \n",
    " \n",
    "results = confusion_matrix(Y_test, Y_pred)\n",
    "print ('Confusion Matrix :')\n",
    "print(results) \n",
    "print ('Accuracy Score :',accuracy_score(Y_test, Y_pred) )\n",
    "print ('Report : ')\n",
    "print (classification_report(Y_test, Y_pred) )"
   ]
  },
  {
   "cell_type": "code",
   "execution_count": 73,
   "metadata": {},
   "outputs": [
    {
     "name": "stdout",
     "output_type": "stream",
     "text": [
      "Confusion Matrix :\n",
      "[[85320 33191]\n",
      " [28347 68980]]\n",
      "Accuracy Score : 0.7148880178652508\n",
      "Report : \n",
      "              precision    recall  f1-score   support\n",
      "\n",
      "         0.0       0.75      0.72      0.73    118511\n",
      "         1.0       0.68      0.71      0.69     97327\n",
      "\n",
      "    accuracy                           0.71    215838\n",
      "   macro avg       0.71      0.71      0.71    215838\n",
      "weighted avg       0.72      0.71      0.72    215838\n",
      "\n"
     ]
    }
   ],
   "source": [
    "results_new = confusion_matrix(Y_new_test, Y_pred_new) \n",
    "print ('Confusion Matrix :')\n",
    "print(results_new) \n",
    "print ('Accuracy Score :',accuracy_score(Y_new_test, Y_pred_new) )\n",
    "print ('Report : ')\n",
    "print (classification_report(Y_new_test, Y_pred_new) )"
   ]
  },
  {
   "cell_type": "markdown",
   "metadata": {},
   "source": [
    "Result of Holiday Flag added models accuracy more accurate than previous model.  Also precision of predicting hailing a cab is increase 1%. Therefore we can use holiday flag for our model and it gives other data such as weather will be valuable."
   ]
  },
  {
   "cell_type": "markdown",
   "metadata": {},
   "source": [
    "# STEP 6 – DEPLOYMENT"
   ]
  },
  {
   "cell_type": "markdown",
   "metadata": {},
   "source": [
    "Deployment is where data mining pays off. In this final phase of the Cross-Industry Standard Process for Data Mining (CRISP-DM) process, it doesn’t matter how brilliant your discoveries may be, or how perfectly your models fit the data, if you don’t actually use those things to improve the way that you do business.\n",
    "\n",
    "The deployment phase includes four tasks. These are;\n",
    "\n",
    "Planning deployment (your methods for integrating data-mining discoveries into use)\n",
    "\n",
    "Planning monitoring and maintenance\n",
    "\n",
    "Reporting final results\n",
    "\n",
    "Reviewing final results"
   ]
  },
  {
   "cell_type": "markdown",
   "metadata": {},
   "source": [
    "# Bonus Question"
   ]
  },
  {
   "cell_type": "markdown",
   "metadata": {},
   "source": [
    "I apply two different method to identify cluster of taxi cabs.\n",
    "\n",
    "First is using DBSCAN (Density-Based Spatial Clustering of Applications with Noise) that is a popular unsupervised learning method utilized in model building and machine learning algorithms. I subset 10% of the total data and divided into two in terms of occupancy flag. I looked other cabs where they are driving in the past and where they will go after it. By doing so, I clustered its cabs together based on similarity of behavior.\n",
    "\n",
    "My second method is implementing RFM methodology in to this question. I subset 10% of the total data and I found total miles per cab, total occupied miles per cab and average active minutes per day. Using mindset of RFM, I split the data into 4 in terms of quantile. Using this quantiles, I create 7 sample of segments. I gave the definition of segments in the coding phase."
   ]
  },
  {
   "cell_type": "markdown",
   "metadata": {},
   "source": [
    "## DBSCAN "
   ]
  },
  {
   "cell_type": "code",
   "execution_count": 74,
   "metadata": {},
   "outputs": [],
   "source": [
    "def visualize_dbscan(db: DBSCAN, X: DataFrame):\n",
    "\n",
    "    core_samples_mask = np.zeros_like(db.labels_, dtype=bool)\n",
    "    core_samples_mask[db.core_sample_indices_] = True\n",
    "\n",
    "    labels = db.labels_\n",
    "    \n",
    "    # Number of clusters in labels, ignoring noise if present.\n",
    "    n_clusters_ = len(set(labels)) - (1 if -1 in labels else 0)\n",
    "    n_noise_ = list(labels).count(-1)\n",
    "\n",
    "    print('Estimated number of clusters: %d' % n_clusters_)\n",
    "\n",
    "    # Black removed and is used for noise instead.\n",
    "    unique_labels = set(labels)\n",
    "    colors = [plt.cm.Spectral(each) for each in np.linspace(0, 1, len(unique_labels))]\n",
    "    for k, col in zip(unique_labels, colors):\n",
    "        if k == -1:\n",
    "            # Black used for noise.\n",
    "            col = [0, 0, 0, 1]\n",
    "            continue\n",
    "\n",
    "        class_member_mask = (labels == k)\n",
    "\n",
    "        xy = X[class_member_mask & core_samples_mask].values\n",
    "        plt.plot(xy[:, 0], xy[:, 1], 'o', markerfacecolor=tuple(col), markeredgecolor='k', markersize=14)\n",
    "\n",
    "        xy = X[class_member_mask & ~core_samples_mask].values\n",
    "        plt.plot(xy[:, 0], xy[:, 1], 'o', markerfacecolor=tuple(col), markeredgecolor='k', markersize=6)\n",
    "\n",
    "    plt.title('Estimated number of clusters: %d' % n_clusters_)\n",
    "    plt.show()"
   ]
  },
  {
   "cell_type": "code",
   "execution_count": 75,
   "metadata": {},
   "outputs": [
    {
     "name": "stdout",
     "output_type": "stream",
     "text": [
      "Estimated number of clusters: 207\n"
     ]
    },
    {
     "data": {
      "image/png": "[encoded data removed]",
      "text/plain": [
       "<Figure size 432x288 with 1 Axes>"
      ]
     },
     "metadata": {
      "needs_background": "light"
     },
     "output_type": "display_data"
    }
   ],
   "source": [
    "sampled_data = data[data['Occupancy'] == 1][['Latitude', 'Longitude']].sample(frac=0.3, random_state=0)\n",
    "\n",
    "db = DBSCAN(eps=0.0005, min_samples=50)\n",
    "db.fit(sampled_data)\n",
    "visualize_dbscan(db=db, X=sampled_data)"
   ]
  },
  {
   "cell_type": "code",
   "execution_count": 76,
   "metadata": {},
   "outputs": [
    {
     "name": "stdout",
     "output_type": "stream",
     "text": [
      "Estimated number of clusters: 234\n"
     ]
    },
    {
     "data": {
      "image/png": "[encoded data removed]",
      "text/plain": [
       "<Figure size 432x288 with 1 Axes>"
      ]
     },
     "metadata": {
      "needs_background": "light"
     },
     "output_type": "display_data"
    }
   ],
   "source": [
    "sampled_data = data[data['Occupancy'] == 0][['Latitude', 'Longitude']].sample(frac=0.3, random_state=0)\n",
    "\n",
    "db = DBSCAN(eps=0.0005, min_samples=50)\n",
    "db.fit(sampled_data)\n",
    "visualize_dbscan(db=db, X=sampled_data)"
   ]
  },
  {
   "cell_type": "markdown",
   "metadata": {},
   "source": [
    "## Businesswise Segmentation (RFM Segmentation)"
   ]
  },
  {
   "cell_type": "markdown",
   "metadata": {},
   "source": [
    "When I think the data that I have, total miles per cab, total occupied miles per cab and average active minutes per day variable are more important than others. I extract those data below and create new dataset for RFM mindset segmentation"
   ]
  },
  {
   "cell_type": "code",
   "execution_count": 77,
   "metadata": {},
   "outputs": [],
   "source": [
    "import datetime\n",
    "\n",
    "def DateExtraction(row: Series):\n",
    "    dt = datetime.datetime.fromtimestamp(row['Timestamp'])\n",
    "    row['day'] = dt.weekday()\n",
    "    row['hour'] = dt.hour\n",
    "    row['minute'] = dt.minute\n",
    "    row['monthday'] = dt.day\n",
    "    return row"
   ]
  },
  {
   "cell_type": "code",
   "execution_count": 78,
   "metadata": {},
   "outputs": [
    {
     "data": {
      "text/html": [
       "<div>\n",
       "<style scoped>\n",
       "    .dataframe tbody tr th:only-of-type {\n",
       "        vertical-align: middle;\n",
       "    }\n",
       "\n",
       "    .dataframe tbody tr th {\n",
       "        vertical-align: top;\n",
       "    }\n",
       "\n",
       "    .dataframe thead th {\n",
       "        text-align: right;\n",
       "    }\n",
       "</style>\n",
       "<table border=\"1\" class=\"dataframe\">\n",
       "  <thead>\n",
       "    <tr style=\"text-align: right;\">\n",
       "      <th></th>\n",
       "      <th>Latitude</th>\n",
       "      <th>Longitude</th>\n",
       "      <th>Occupancy</th>\n",
       "      <th>Taxi</th>\n",
       "      <th>Timestamp</th>\n",
       "      <th>day</th>\n",
       "      <th>hour</th>\n",
       "      <th>minute</th>\n",
       "      <th>monthday</th>\n",
       "    </tr>\n",
       "  </thead>\n",
       "  <tbody>\n",
       "    <tr>\n",
       "      <td>new_ajsnedsi_1</td>\n",
       "      <td>37.75</td>\n",
       "      <td>-122.40</td>\n",
       "      <td>0</td>\n",
       "      <td>new_ajsnedsi</td>\n",
       "      <td>1211022396</td>\n",
       "      <td>5</td>\n",
       "      <td>14</td>\n",
       "      <td>6</td>\n",
       "      <td>17</td>\n",
       "    </tr>\n",
       "    <tr>\n",
       "      <td>new_ajsnedsi_2</td>\n",
       "      <td>37.75</td>\n",
       "      <td>-122.40</td>\n",
       "      <td>0</td>\n",
       "      <td>new_ajsnedsi</td>\n",
       "      <td>1211022456</td>\n",
       "      <td>5</td>\n",
       "      <td>14</td>\n",
       "      <td>7</td>\n",
       "      <td>17</td>\n",
       "    </tr>\n",
       "    <tr>\n",
       "      <td>new_ajsnedsi_3</td>\n",
       "      <td>37.75</td>\n",
       "      <td>-122.40</td>\n",
       "      <td>0</td>\n",
       "      <td>new_ajsnedsi</td>\n",
       "      <td>1211022516</td>\n",
       "      <td>5</td>\n",
       "      <td>14</td>\n",
       "      <td>8</td>\n",
       "      <td>17</td>\n",
       "    </tr>\n",
       "    <tr>\n",
       "      <td>new_ajsnedsi_4</td>\n",
       "      <td>37.75</td>\n",
       "      <td>-122.39</td>\n",
       "      <td>0</td>\n",
       "      <td>new_ajsnedsi</td>\n",
       "      <td>1211022577</td>\n",
       "      <td>5</td>\n",
       "      <td>14</td>\n",
       "      <td>9</td>\n",
       "      <td>17</td>\n",
       "    </tr>\n",
       "    <tr>\n",
       "      <td>new_ajsnedsi_5</td>\n",
       "      <td>37.77</td>\n",
       "      <td>-122.39</td>\n",
       "      <td>0</td>\n",
       "      <td>new_ajsnedsi</td>\n",
       "      <td>1211022637</td>\n",
       "      <td>5</td>\n",
       "      <td>14</td>\n",
       "      <td>10</td>\n",
       "      <td>17</td>\n",
       "    </tr>\n",
       "  </tbody>\n",
       "</table>\n",
       "</div>"
      ],
      "text/plain": [
       "                Latitude  Longitude  Occupancy          Taxi   Timestamp  day  \\\n",
       "new_ajsnedsi_1     37.75    -122.40          0  new_ajsnedsi  1211022396    5   \n",
       "new_ajsnedsi_2     37.75    -122.40          0  new_ajsnedsi  1211022456    5   \n",
       "new_ajsnedsi_3     37.75    -122.40          0  new_ajsnedsi  1211022516    5   \n",
       "new_ajsnedsi_4     37.75    -122.39          0  new_ajsnedsi  1211022577    5   \n",
       "new_ajsnedsi_5     37.77    -122.39          0  new_ajsnedsi  1211022637    5   \n",
       "\n",
       "                hour  minute  monthday  \n",
       "new_ajsnedsi_1    14       6        17  \n",
       "new_ajsnedsi_2    14       7        17  \n",
       "new_ajsnedsi_3    14       8        17  \n",
       "new_ajsnedsi_4    14       9        17  \n",
       "new_ajsnedsi_5    14      10        17  "
      ]
     },
     "execution_count": 78,
     "metadata": {},
     "output_type": "execute_result"
    }
   ],
   "source": [
    "data = pd.DataFrame()\n",
    "for f in SelectedFiles:\n",
    "    df = ConverttoDF(file_name=f)\n",
    "    df = PreviousCoordinates(df=df)\n",
    "    df = DistanceCalculation(df=df)\n",
    "    data = pd.concat([data, df])\n",
    "data = data[['Latitude', 'Longitude', 'Occupancy', 'Taxi','Timestamp']]\n",
    "data['day'] = 0\n",
    "data['hour'] = 0\n",
    "data['minute'] = 0\n",
    "data['monthday'] = 0\n",
    "data = data.apply(lambda row: DateExtraction(row), axis=1)\n",
    "data.head()"
   ]
  },
  {
   "cell_type": "code",
   "execution_count": 79,
   "metadata": {},
   "outputs": [],
   "source": [
    "Segment = pd.DataFrame()\n",
    "for f in SelectedFiles:\n",
    "    df = ConverttoDF(file_name=f)\n",
    "    df = PreviousCoordinates(df=df)\n",
    "    df = DistanceCalculation(df=df)\n",
    "    Segment = pd.concat([Segment, df])\n",
    "    \n",
    "\n"
   ]
  },
  {
   "cell_type": "code",
   "execution_count": 80,
   "metadata": {},
   "outputs": [
    {
     "name": "stdout",
     "output_type": "stream",
     "text": [
      "Taxi\n",
      "new_abmuyawm     4945.10\n",
      "new_acvebr       6668.34\n",
      "new_afweka       5431.69\n",
      "new_ajsnedsi     6603.38\n",
      "new_amknywr      5606.30\n",
      "new_ancedvab     1822.48\n",
      "new_andyol       5451.43\n",
      "new_aniajcr      5326.07\n",
      "new_anupwr       4006.42\n",
      "new_artgagvu     5339.73\n",
      "new_asigno       6106.54\n",
      "new_atidfi       6433.05\n",
      "new_easnsvu      5812.89\n",
      "new_ecdiwovu     6169.27\n",
      "new_eglohabs     5371.02\n",
      "new_eicmynts     3423.72\n",
      "new_ejcrur       4703.90\n",
      "new_elswcky      5734.05\n",
      "new_eoffrij      5696.08\n",
      "new_eybyay       6651.21\n",
      "new_icedpa       3027.34\n",
      "new_ictlypt      4708.31\n",
      "new_idjoat        771.99\n",
      "new_idjojwa      1122.90\n",
      "new_idodly       6323.11\n",
      "new_igglitby     6704.11\n",
      "new_ikujfurk     4579.91\n",
      "new_imhacy       1147.65\n",
      "new_indtwrat     6153.95\n",
      "new_iofplik      5985.70\n",
      "new_iovhar       5933.90\n",
      "new_ipdraw        744.10\n",
      "new_mfeuer         25.98\n",
      "new_oasthul      4449.06\n",
      "new_obsimjio     5222.93\n",
      "new_ocwyit       4164.55\n",
      "new_ogikligu     5011.57\n",
      "new_ojvighta     6126.91\n",
      "new_oksbosfl     5938.80\n",
      "new_omdrid       1828.81\n",
      "new_omluaj       6294.80\n",
      "new_ononma       5405.28\n",
      "new_ophugbe      6936.31\n",
      "new_osckro       6325.60\n",
      "new_osoccef      6062.73\n",
      "new_otvasdar     5737.96\n",
      "new_oydtesa      5476.33\n",
      "new_ucvepnuv     5816.33\n",
      "new_ugdifbl      4144.39\n",
      "new_ujtosh       3482.12\n",
      "new_ujtrud       5425.04\n",
      "new_upthin     103063.49\n",
      "new_uvreoipy     6289.59\n",
      "Name: Miles, dtype: float64\n"
     ]
    }
   ],
   "source": [
    "MileCover=pd.DataFrame()\n",
    "\n",
    "MileCover = Segment.groupby(by=['Taxi'])['Miles'].sum()\n",
    "\n",
    "print(MileCover)"
   ]
  },
  {
   "cell_type": "code",
   "execution_count": 81,
   "metadata": {},
   "outputs": [],
   "source": [
    "WPassangerDistance = Segment[Segment['Occupancy'] == 1]\n",
    "#Distance Without Passanger\n",
    "DistanceWPassanger=pd.DataFrame()\n",
    "DistanceWPassanger = WPassangerDistance.groupby(by=['Taxi'])['Miles'].sum()"
   ]
  },
  {
   "cell_type": "code",
   "execution_count": 82,
   "metadata": {},
   "outputs": [
    {
     "name": "stdout",
     "output_type": "stream",
     "text": [
      "               Miles_x  Miles_y\n",
      "Taxi                           \n",
      "new_abmuyawm   4945.10  2837.17\n",
      "new_acvebr     6668.34  2803.25\n",
      "new_afweka     5431.69  3068.61\n",
      "new_ajsnedsi   6603.38  3537.55\n",
      "new_amknywr    5606.30  3546.35\n",
      "new_ancedvab   1822.48  1042.58\n",
      "new_andyol     5451.43  3127.38\n",
      "new_aniajcr    5326.07  3026.74\n",
      "new_anupwr     4006.42  2198.14\n",
      "new_artgagvu   5339.73  3075.60\n",
      "new_asigno     6106.54  3305.22\n",
      "new_atidfi     6433.05  3736.04\n",
      "new_easnsvu    5812.89  3088.56\n",
      "new_ecdiwovu   6169.27  3529.79\n",
      "new_eglohabs   5371.02  3043.68\n",
      "new_eicmynts   3423.72  1882.14\n",
      "new_ejcrur     4703.90  2573.98\n",
      "new_elswcky    5734.05  3360.13\n",
      "new_eoffrij    5696.08  3288.99\n",
      "new_eybyay     6651.21  3583.84\n",
      "new_icedpa     3027.34  1697.96\n",
      "new_ictlypt    4708.31  2765.17\n",
      "new_idjoat      771.99   421.79\n",
      "new_idjojwa    1122.90   690.45\n",
      "new_idodly     6323.11  3869.85\n",
      "new_igglitby   6704.11  3562.57\n",
      "new_ikujfurk   4579.91  2550.30\n",
      "new_imhacy     1147.65   658.93\n",
      "new_indtwrat   6153.95  3401.41\n",
      "new_iofplik    5985.70  3229.65\n",
      "new_iovhar     5933.90  3343.29\n",
      "new_ipdraw      744.10   337.56\n",
      "new_mfeuer       25.98     9.09\n",
      "new_oasthul    4449.06  2593.81\n",
      "new_obsimjio   5222.93  3125.83\n",
      "new_ocwyit     4164.55  2400.60\n",
      "new_ogikligu   5011.57  2800.97\n",
      "new_ojvighta   6126.91  3357.41\n",
      "new_oksbosfl   5938.80  3650.77\n",
      "new_omdrid     1828.81  1125.71\n",
      "new_omluaj     6294.80  3388.41\n",
      "new_ononma     5405.28  3002.27\n",
      "new_ophugbe    6936.31  4072.16\n",
      "new_osckro     6325.60  3427.16\n",
      "new_osoccef    6062.73  3250.77\n",
      "new_otvasdar   5737.96  3146.22\n",
      "new_oydtesa    5476.33  3209.19\n",
      "new_ucvepnuv   5816.33  3453.47\n",
      "new_ugdifbl    4144.39  2391.73\n",
      "new_ujtosh     3482.12  1932.94\n",
      "new_ujtrud     5425.04  3071.71\n",
      "new_upthin   103063.49 50799.87\n",
      "new_uvreoipy   6289.59  3407.39\n"
     ]
    }
   ],
   "source": [
    "RFMData = pd.merge(MileCover,DistanceWPassanger, on='Taxi', how='left')\n",
    "print(RFMData)"
   ]
  },
  {
   "cell_type": "code",
   "execution_count": 83,
   "metadata": {},
   "outputs": [],
   "source": [
    "\n",
    "output  = pd.DataFrame()\n",
    "output = data[['Taxi','monthday']]\n",
    "output = output.drop_duplicates()\n",
    "ActDay = pd.DataFrame()\n",
    "ActDay = output.groupby(by=['Taxi'])['monthday'].count()"
   ]
  },
  {
   "cell_type": "code",
   "execution_count": 84,
   "metadata": {},
   "outputs": [],
   "source": [
    "\n",
    "#Active Minutes\n",
    "ActMin = pd.DataFrame()\n",
    "ActMin = data.groupby(by=['Taxi'])['Timestamp'].count()\n",
    "#Active Days\n",
    "output  = pd.DataFrame()\n",
    "output = data[['Taxi','monthday']]\n",
    "output = output.drop_duplicates()\n",
    "ActDay = pd.DataFrame()\n",
    "ActDay = output.groupby(by=['Taxi'])['monthday'].count()\n",
    "\n",
    "Active = pd.DataFrame()\n",
    "Active = pd.merge(ActMin, ActDay, on='Taxi', how='left')\n",
    "#Finding Active Minutes per Day\n",
    "Active['ActMinPerDay'] = Active['Timestamp'] / Active['monthday']"
   ]
  },
  {
   "cell_type": "code",
   "execution_count": 85,
   "metadata": {},
   "outputs": [
    {
     "name": "stdout",
     "output_type": "stream",
     "text": [
      "              MileCoverage  MileCoverageWPassanger  ActMinPerDay\n",
      "Taxi                                                            \n",
      "new_abmuyawm       4945.10                 2837.17        949.83\n",
      "new_acvebr         6668.34                 2803.25        985.68\n",
      "new_afweka         5431.69                 3068.61        964.40\n",
      "new_ajsnedsi       6603.38                 3537.55        927.84\n",
      "new_amknywr        5606.30                 3546.35        912.12\n",
      "new_ancedvab       1822.48                 1042.58        990.11\n",
      "new_andyol         5451.43                 3127.38       1029.25\n",
      "new_aniajcr        5326.07                 3026.74       1032.92\n",
      "new_anupwr         4006.42                 2198.14        619.29\n",
      "new_artgagvu       5339.73                 3075.60       1117.19\n",
      "new_asigno         6106.54                 3305.22       1135.58\n",
      "new_atidfi         6433.05                 3736.04       1022.62\n",
      "new_easnsvu        5812.89                 3088.56        738.67\n",
      "new_ecdiwovu       6169.27                 3529.79       1013.96\n",
      "new_eglohabs       5371.02                 3043.68        839.92\n",
      "new_eicmynts       3423.72                 1882.14        440.57\n",
      "new_ejcrur         4703.90                 2573.98        868.71\n",
      "new_elswcky        5734.05                 3360.13        955.79\n",
      "new_eoffrij        5696.08                 3288.99       1033.00\n",
      "new_eybyay         6651.21                 3583.84       1103.44\n",
      "new_icedpa         3027.34                 1697.96        862.83\n",
      "new_ictlypt        4708.31                 2765.17        615.92\n",
      "new_idjoat          771.99                  421.79        958.43\n",
      "new_idjojwa        1122.90                  690.45        555.00\n",
      "new_idodly         6323.11                 3869.85        973.46\n",
      "new_igglitby       6704.11                 3562.57        908.08\n",
      "new_ikujfurk       4579.91                 2550.30        864.29\n",
      "new_imhacy         1147.65                  658.93        702.73\n",
      "new_indtwrat       6153.95                 3401.41        755.54\n",
      "new_iofplik        5985.70                 3229.65        756.24\n",
      "new_iovhar         5933.90                 3343.29       1065.29\n",
      "new_ipdraw          744.10                  337.56       1006.75\n",
      "new_mfeuer           25.98                    9.09        102.00\n",
      "new_oasthul        4449.06                 2593.81        609.50\n",
      "new_obsimjio       5222.93                 3125.83       1073.25\n",
      "new_ocwyit         4164.55                 2400.60        700.04\n",
      "new_ogikligu       5011.57                 2800.97       1071.29\n",
      "new_ojvighta       6126.91                 3357.41        992.72\n",
      "new_oksbosfl       5938.80                 3650.77        809.00\n",
      "new_omdrid         1828.81                 1125.71       1006.38\n",
      "new_omluaj         6294.80                 3388.41       1066.92\n",
      "new_ononma         5405.28                 3002.27       1041.25\n",
      "new_ophugbe        6936.31                 4072.16       1083.67\n",
      "new_osckro         6325.60                 3427.16       1101.46\n",
      "new_osoccef        6062.73                 3250.77       1162.67\n",
      "new_otvasdar       5737.96                 3146.22       1022.17\n",
      "new_oydtesa        5476.33                 3209.19       1115.71\n",
      "new_ucvepnuv       5816.33                 3453.47        827.08\n",
      "new_ugdifbl        4144.39                 2391.73        718.38\n",
      "new_ujtosh         3482.12                 1932.94        911.44\n",
      "new_ujtrud         5425.04                 3071.71       1006.46\n",
      "new_upthin       103063.49                50799.87       2056.92\n",
      "new_uvreoipy       6289.59                 3407.39        927.83\n"
     ]
    }
   ],
   "source": [
    "RFMData = pd.merge(RFMData,Active, on='Taxi', how='left')\n",
    "RFMDataF = RFMData[['Miles_x', 'Miles_y', 'ActMinPerDay']]\n",
    "RFMDataF.rename(columns={'Miles_x': 'MileCoverage', 'Miles_y': 'MileCoverageWPassanger'}, inplace=True)\n",
    "print(RFMDataF)"
   ]
  },
  {
   "cell_type": "markdown",
   "metadata": {},
   "source": [
    "After merging data, I found the quantiles value. This will help me to divide my data into four in terms of every variable such as Mile Coverages with Passanger."
   ]
  },
  {
   "cell_type": "code",
   "execution_count": 86,
   "metadata": {},
   "outputs": [
    {
     "name": "stdout",
     "output_type": "stream",
     "text": [
      "{'MileCoverage': {0.25: 4449.064540179275, 0.5: 5451.434417563113, 0.75: 6126.910746619501}, 'MileCoverageWPassanger': {0.25: 2550.2962244979594, 0.5: 3088.5633236431745, 0.75: 3401.4137584852115}, 'ActMinPerDay': {0.25: 827.08, 0.5: 964.4, 0.75: 1033.0}}\n"
     ]
    }
   ],
   "source": [
    "quantiles = RFMDataF.quantile(q=[0.25,0.5,0.75])\n",
    "quantiles = quantiles.to_dict()\n",
    "print(quantiles)"
   ]
  },
  {
   "cell_type": "code",
   "execution_count": 87,
   "metadata": {},
   "outputs": [],
   "source": [
    "def RScore(x,p,d):\n",
    "    if x <= d[p][0.25]:\n",
    "        return 1\n",
    "    elif x <= d[p][0.50]:\n",
    "        return 2\n",
    "    elif x <= d[p][0.75]: \n",
    "        return 3\n",
    "    else:\n",
    "        return 4\n",
    "    \n",
    "def FMScore(x,p,d):\n",
    "    if x <= d[p][0.25]:\n",
    "        return 4\n",
    "    elif x <= d[p][0.50]:\n",
    "        return 3\n",
    "    elif x <= d[p][0.75]: \n",
    "        return 2\n",
    "    else:\n",
    "        return 1"
   ]
  },
  {
   "cell_type": "code",
   "execution_count": 88,
   "metadata": {},
   "outputs": [
    {
     "data": {
      "text/html": [
       "<div>\n",
       "<style scoped>\n",
       "    .dataframe tbody tr th:only-of-type {\n",
       "        vertical-align: middle;\n",
       "    }\n",
       "\n",
       "    .dataframe tbody tr th {\n",
       "        vertical-align: top;\n",
       "    }\n",
       "\n",
       "    .dataframe thead th {\n",
       "        text-align: right;\n",
       "    }\n",
       "</style>\n",
       "<table border=\"1\" class=\"dataframe\">\n",
       "  <thead>\n",
       "    <tr style=\"text-align: right;\">\n",
       "      <th></th>\n",
       "      <th>MileCoverage</th>\n",
       "      <th>MileCoverageWPassanger</th>\n",
       "      <th>ActMinPerDay</th>\n",
       "      <th>r_quartile</th>\n",
       "      <th>f_quartile</th>\n",
       "      <th>m_quartile</th>\n",
       "    </tr>\n",
       "    <tr>\n",
       "      <th>Taxi</th>\n",
       "      <th></th>\n",
       "      <th></th>\n",
       "      <th></th>\n",
       "      <th></th>\n",
       "      <th></th>\n",
       "      <th></th>\n",
       "    </tr>\n",
       "  </thead>\n",
       "  <tbody>\n",
       "    <tr>\n",
       "      <td>new_abmuyawm</td>\n",
       "      <td>4945.10</td>\n",
       "      <td>2837.17</td>\n",
       "      <td>949.83</td>\n",
       "      <td>2</td>\n",
       "      <td>3</td>\n",
       "      <td>3</td>\n",
       "    </tr>\n",
       "    <tr>\n",
       "      <td>new_acvebr</td>\n",
       "      <td>6668.34</td>\n",
       "      <td>2803.25</td>\n",
       "      <td>985.68</td>\n",
       "      <td>4</td>\n",
       "      <td>3</td>\n",
       "      <td>2</td>\n",
       "    </tr>\n",
       "    <tr>\n",
       "      <td>new_afweka</td>\n",
       "      <td>5431.69</td>\n",
       "      <td>3068.61</td>\n",
       "      <td>964.40</td>\n",
       "      <td>2</td>\n",
       "      <td>3</td>\n",
       "      <td>3</td>\n",
       "    </tr>\n",
       "    <tr>\n",
       "      <td>new_ajsnedsi</td>\n",
       "      <td>6603.38</td>\n",
       "      <td>3537.55</td>\n",
       "      <td>927.84</td>\n",
       "      <td>4</td>\n",
       "      <td>1</td>\n",
       "      <td>3</td>\n",
       "    </tr>\n",
       "    <tr>\n",
       "      <td>new_amknywr</td>\n",
       "      <td>5606.30</td>\n",
       "      <td>3546.35</td>\n",
       "      <td>912.12</td>\n",
       "      <td>3</td>\n",
       "      <td>1</td>\n",
       "      <td>3</td>\n",
       "    </tr>\n",
       "  </tbody>\n",
       "</table>\n",
       "</div>"
      ],
      "text/plain": [
       "              MileCoverage  MileCoverageWPassanger  ActMinPerDay  r_quartile  \\\n",
       "Taxi                                                                           \n",
       "new_abmuyawm       4945.10                 2837.17        949.83           2   \n",
       "new_acvebr         6668.34                 2803.25        985.68           4   \n",
       "new_afweka         5431.69                 3068.61        964.40           2   \n",
       "new_ajsnedsi       6603.38                 3537.55        927.84           4   \n",
       "new_amknywr        5606.30                 3546.35        912.12           3   \n",
       "\n",
       "              f_quartile  m_quartile  \n",
       "Taxi                                  \n",
       "new_abmuyawm           3           3  \n",
       "new_acvebr             3           2  \n",
       "new_afweka             3           3  \n",
       "new_ajsnedsi           1           3  \n",
       "new_amknywr            1           3  "
      ]
     },
     "execution_count": 88,
     "metadata": {},
     "output_type": "execute_result"
    }
   ],
   "source": [
    "RFMDataF['r_quartile'] = RFMDataF['MileCoverage'].apply(RScore, args=('MileCoverage',quantiles,))\n",
    "RFMDataF['f_quartile'] = RFMDataF['MileCoverageWPassanger'].apply(FMScore, args=('MileCoverageWPassanger',quantiles,))\n",
    "RFMDataF['m_quartile'] = RFMDataF['ActMinPerDay'].apply(FMScore, args=('ActMinPerDay',quantiles,))\n",
    "RFMDataF.head()"
   ]
  },
  {
   "cell_type": "code",
   "execution_count": 89,
   "metadata": {},
   "outputs": [
    {
     "data": {
      "text/html": [
       "<div>\n",
       "<style scoped>\n",
       "    .dataframe tbody tr th:only-of-type {\n",
       "        vertical-align: middle;\n",
       "    }\n",
       "\n",
       "    .dataframe tbody tr th {\n",
       "        vertical-align: top;\n",
       "    }\n",
       "\n",
       "    .dataframe thead th {\n",
       "        text-align: right;\n",
       "    }\n",
       "</style>\n",
       "<table border=\"1\" class=\"dataframe\">\n",
       "  <thead>\n",
       "    <tr style=\"text-align: right;\">\n",
       "      <th></th>\n",
       "      <th>MileCoverage</th>\n",
       "      <th>MileCoverageWPassanger</th>\n",
       "      <th>ActMinPerDay</th>\n",
       "      <th>r_quartile</th>\n",
       "      <th>f_quartile</th>\n",
       "      <th>m_quartile</th>\n",
       "      <th>RFMScore</th>\n",
       "    </tr>\n",
       "    <tr>\n",
       "      <th>Taxi</th>\n",
       "      <th></th>\n",
       "      <th></th>\n",
       "      <th></th>\n",
       "      <th></th>\n",
       "      <th></th>\n",
       "      <th></th>\n",
       "      <th></th>\n",
       "    </tr>\n",
       "  </thead>\n",
       "  <tbody>\n",
       "    <tr>\n",
       "      <td>new_abmuyawm</td>\n",
       "      <td>4945.10</td>\n",
       "      <td>2837.17</td>\n",
       "      <td>949.83</td>\n",
       "      <td>2</td>\n",
       "      <td>3</td>\n",
       "      <td>3</td>\n",
       "      <td>233</td>\n",
       "    </tr>\n",
       "    <tr>\n",
       "      <td>new_acvebr</td>\n",
       "      <td>6668.34</td>\n",
       "      <td>2803.25</td>\n",
       "      <td>985.68</td>\n",
       "      <td>4</td>\n",
       "      <td>3</td>\n",
       "      <td>2</td>\n",
       "      <td>432</td>\n",
       "    </tr>\n",
       "    <tr>\n",
       "      <td>new_afweka</td>\n",
       "      <td>5431.69</td>\n",
       "      <td>3068.61</td>\n",
       "      <td>964.40</td>\n",
       "      <td>2</td>\n",
       "      <td>3</td>\n",
       "      <td>3</td>\n",
       "      <td>233</td>\n",
       "    </tr>\n",
       "    <tr>\n",
       "      <td>new_ajsnedsi</td>\n",
       "      <td>6603.38</td>\n",
       "      <td>3537.55</td>\n",
       "      <td>927.84</td>\n",
       "      <td>4</td>\n",
       "      <td>1</td>\n",
       "      <td>3</td>\n",
       "      <td>413</td>\n",
       "    </tr>\n",
       "    <tr>\n",
       "      <td>new_amknywr</td>\n",
       "      <td>5606.30</td>\n",
       "      <td>3546.35</td>\n",
       "      <td>912.12</td>\n",
       "      <td>3</td>\n",
       "      <td>1</td>\n",
       "      <td>3</td>\n",
       "      <td>313</td>\n",
       "    </tr>\n",
       "  </tbody>\n",
       "</table>\n",
       "</div>"
      ],
      "text/plain": [
       "              MileCoverage  MileCoverageWPassanger  ActMinPerDay  r_quartile  \\\n",
       "Taxi                                                                           \n",
       "new_abmuyawm       4945.10                 2837.17        949.83           2   \n",
       "new_acvebr         6668.34                 2803.25        985.68           4   \n",
       "new_afweka         5431.69                 3068.61        964.40           2   \n",
       "new_ajsnedsi       6603.38                 3537.55        927.84           4   \n",
       "new_amknywr        5606.30                 3546.35        912.12           3   \n",
       "\n",
       "              f_quartile  m_quartile RFMScore  \n",
       "Taxi                                           \n",
       "new_abmuyawm           3           3      233  \n",
       "new_acvebr             3           2      432  \n",
       "new_afweka             3           3      233  \n",
       "new_ajsnedsi           1           3      413  \n",
       "new_amknywr            1           3      313  "
      ]
     },
     "execution_count": 89,
     "metadata": {},
     "output_type": "execute_result"
    }
   ],
   "source": [
    "RFMDataF['RFMScore'] = RFMDataF.r_quartile.map(str) + RFMDataF.f_quartile.map(str) + RFMDataF.m_quartile.map(str)\n",
    "RFMDataF.head()"
   ]
  },
  {
   "cell_type": "code",
   "execution_count": 90,
   "metadata": {},
   "outputs": [
    {
     "data": {
      "text/plain": [
       "RFMScore\n",
       "134    1\n",
       "142    3\n",
       "143    3\n",
       "144    7\n",
       "221    1\n",
       "222    1\n",
       "231    3\n",
       "232    2\n",
       "233    4\n",
       "234    1\n",
       "243    1\n",
       "313    1\n",
       "314    2\n",
       "321    4\n",
       "322    3\n",
       "323    1\n",
       "324    1\n",
       "334    1\n",
       "411    4\n",
       "412    3\n",
       "413    3\n",
       "421    1\n",
       "424    1\n",
       "432    1\n",
       "Name: RFMScore, dtype: int64"
      ]
     },
     "execution_count": 90,
     "metadata": {},
     "output_type": "execute_result"
    }
   ],
   "source": [
    "RFMDataF.groupby(by=['RFMScore'])['RFMScore'].count()"
   ]
  },
  {
   "cell_type": "markdown",
   "metadata": {},
   "source": [
    "So we can give clusters a name accordingly. Here is some example of it. \n",
    "---\n",
    "Best Taxi Drivers: Actively driving cab and working much more than other per day\n",
    "\n",
    "     (if mile coverage, mile coverage with passanger and active minutes per day are in the top %25)\n",
    "---               \n",
    "Globetrotter : Actively driving cab\n",
    "\n",
    "     (if mile coverage is in the top %25)\n",
    "---               \n",
    "Most Occupied Taxi : Actively driving cab with passanger\n",
    "\n",
    "     (if mile coverage with passanger is in the top %25)\n",
    "---               \n",
    "Most Active Taxi: Working much more than other per day\n",
    "\n",
    "     (if active minutes per day is in the top %25)\n",
    "---               \n",
    "Fast and Vacant: Actively driving more miles but less minutes per day. That means he/she drives fast with more vacant \n",
    "\n",
    "     (if mile coverage is in the top %25 and mile coverage with passanger and active minutes per day are in the bottom %25)\n",
    "---               \n",
    "Lucky Stand-by: Driver is not driving without passanger but he/she drive more than other in terms of mile coverage with passanger and active minutes per day.\n",
    "\n",
    "     (if mile coverage is in the bottom %25 and mile coverage with passanger and active minutes per day are in the top %25)\n",
    "---                \n",
    "Not Active Taxi Drivers: Not actively driving cab and working much more than other per day\n",
    "\n",
    "     (if mile coverage, mile coverage with passanger and active minutes per day are in the bottom %25)\n",
    "--- "
   ]
  },
  {
   "cell_type": "code",
   "execution_count": 91,
   "metadata": {},
   "outputs": [
    {
     "name": "stdout",
     "output_type": "stream",
     "text": [
      "Best Taxi Drivers:  0\n",
      "Globetrotter :  13\n",
      "Most Occupied Taxi :  14\n",
      "Most Active Taxi:  14\n",
      "Fast and Vacant:  4\n",
      "Lucky Stand-by:  7\n",
      "Not Active Taxi Drivers:  0\n"
     ]
    }
   ],
   "source": [
    "print(\"Best Taxi Drivers: \",len(RFMDataF[RFMDataF['RFMScore']=='444']))\n",
    "print('Globetrotter : ',len(RFMDataF[RFMDataF['r_quartile']==4]))\n",
    "print('Most Occupied Taxi : ',len(RFMDataF[RFMDataF['f_quartile']==4]))\n",
    "print(\"Most Active Taxi: \",len(RFMDataF[RFMDataF['m_quartile']==4]))\n",
    "print('Fast and Vacant: ', len(RFMDataF[RFMDataF['RFMScore']=='411']))\n",
    "print('Lucky Stand-by: ',len(RFMDataF[RFMDataF['RFMScore']=='144']))\n",
    "print('Not Active Taxi Drivers: ',len(RFMDataF[RFMDataF['RFMScore']=='111']))"
   ]
  }
 ],
 "metadata": {
  "kernelspec": {
   "display_name": "Python 3",
   "language": "python",
   "name": "python3"
  },
  "language_info": {
   "codemirror_mode": {
    "name": "ipython",
    "version": 3
   },
   "file_extension": ".py",
   "mimetype": "text/x-python",
   "name": "python",
   "nbconvert_exporter": "python",
   "pygments_lexer": "ipython3",
   "version": "3.7.4"
  }
 },
 "nbformat": 4,
 "nbformat_minor": 2
}
